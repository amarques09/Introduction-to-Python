{
 "cells": [
  {
   "cell_type": "markdown",
   "metadata": {},
   "source": [
    "<!--BOOK_INFORMATION-->\n",
    "<img align=\"left\" style=\"padding-right:10px;\" src=\"figures/PDSH-cover-small.png\">\n",
    "\n",
    "*This notebook contains an excerpt from the [Python Data Science Handbook](http://shop.oreilly.com/product/0636920034919.do) by Jake VanderPlas; the content is available [on GitHub](https://github.com/jakevdp/PythonDataScienceHandbook).*\n",
    "\n",
    "*The text is released under the [CC-BY-NC-ND license](https://creativecommons.org/licenses/by-nc-nd/3.0/us/legalcode), and code is released under the [MIT license](https://opensource.org/licenses/MIT). If you find this content useful, please consider supporting the work by [buying the book](http://shop.oreilly.com/product/0636920034919.do)!*"
   ]
  },
  {
   "cell_type": "markdown",
   "metadata": {},
   "source": [
    "<!--NAVIGATION-->\n",
    "< [Combining Datasets: Concat and Append](03.06-Concat-And-Append.ipynb) | [Contents](Index.ipynb) | [Aggregation and Grouping](03.08-Aggregation-and-Grouping.ipynb) >\n",
    "\n",
    "<a href=\"https://colab.research.google.com/github/jakevdp/PythonDataScienceHandbook/blob/master/notebooks/03.07-Merge-and-Join.ipynb\"><img align=\"left\" src=\"https://colab.research.google.com/assets/colab-badge.svg\" alt=\"Open in Colab\" title=\"Open and Execute in Google Colaboratory\"></a>\n"
   ]
  },
  {
   "cell_type": "markdown",
   "metadata": {},
   "source": [
    "# Combining Datasets: Merge and Join"
   ]
  },
  {
   "cell_type": "markdown",
   "metadata": {},
   "source": [
    "One essential feature offered by Pandas is its high-performance, in-memory join and merge operations.\n",
    "If you have ever worked with databases, you should be familiar with this type of data interaction.\n",
    "The main interface for this is the ``pd.merge`` function, and we'll see few examples of how this can work in practice.\n",
    "\n",
    "For convenience, we will start by redefining the ``display()`` functionality from the previous section:"
   ]
  },
  {
   "cell_type": "code",
   "execution_count": 1,
   "metadata": {},
   "outputs": [],
   "source": [
    "import pandas as pd"
   ]
  },
  {
   "cell_type": "code",
   "execution_count": 7,
   "metadata": {},
   "outputs": [],
   "source": [
    "import glob"
   ]
  },
  {
   "cell_type": "code",
   "execution_count": 15,
   "metadata": {},
   "outputs": [
    {
     "data": {
      "text/plain": [
       "['data/state-abbrevs.csv', 'data/state-areas.csv', 'data/state-population.csv']"
      ]
     },
     "execution_count": 15,
     "metadata": {},
     "output_type": "execute_result"
    }
   ],
   "source": [
    "glob.glob(\"data/state-*.csv\")"
   ]
  },
  {
   "cell_type": "code",
   "execution_count": 11,
   "metadata": {},
   "outputs": [],
   "source": [
    "datasets = []\n",
    "for csv in glob.glob(\"data/state-*.csv\"):\n",
    "    datasets.append(pd.read_csv(csv))"
   ]
  },
  {
   "cell_type": "code",
   "execution_count": 104,
   "metadata": {},
   "outputs": [],
   "source": [
    "abbrevs = pd.read_csv(\"data/state-abbrevs.csv\")\n",
    "areas = pd.read_csv(\"data/state-areas.csv\")\n",
    "population = pd.read_csv(\"data/state-population.csv\")"
   ]
  },
  {
   "cell_type": "code",
   "execution_count": 66,
   "metadata": {},
   "outputs": [],
   "source": [
    "import numpy as np"
   ]
  },
  {
   "cell_type": "code",
   "execution_count": 84,
   "metadata": {},
   "outputs": [
    {
     "data": {
      "text/html": [
       "<div>\n",
       "<style scoped>\n",
       "    .dataframe tbody tr th:only-of-type {\n",
       "        vertical-align: middle;\n",
       "    }\n",
       "\n",
       "    .dataframe tbody tr th {\n",
       "        vertical-align: top;\n",
       "    }\n",
       "\n",
       "    .dataframe thead th {\n",
       "        text-align: right;\n",
       "    }\n",
       "</style>\n",
       "<table border=\"1\" class=\"dataframe\">\n",
       "  <thead>\n",
       "    <tr style=\"text-align: right;\">\n",
       "      <th></th>\n",
       "      <th>state/region</th>\n",
       "      <th>ages</th>\n",
       "      <th>year</th>\n",
       "      <th>population</th>\n",
       "    </tr>\n",
       "  </thead>\n",
       "  <tbody>\n",
       "    <tr>\n",
       "      <th>0</th>\n",
       "      <td>AL</td>\n",
       "      <td>under18</td>\n",
       "      <td>2012</td>\n",
       "      <td>1117489.0</td>\n",
       "    </tr>\n",
       "    <tr>\n",
       "      <th>1</th>\n",
       "      <td>AL</td>\n",
       "      <td>total</td>\n",
       "      <td>2012</td>\n",
       "      <td>4817528.0</td>\n",
       "    </tr>\n",
       "    <tr>\n",
       "      <th>2</th>\n",
       "      <td>AL</td>\n",
       "      <td>under18</td>\n",
       "      <td>2010</td>\n",
       "      <td>1130966.0</td>\n",
       "    </tr>\n",
       "    <tr>\n",
       "      <th>3</th>\n",
       "      <td>AL</td>\n",
       "      <td>total</td>\n",
       "      <td>2010</td>\n",
       "      <td>4785570.0</td>\n",
       "    </tr>\n",
       "    <tr>\n",
       "      <th>4</th>\n",
       "      <td>AL</td>\n",
       "      <td>under18</td>\n",
       "      <td>2011</td>\n",
       "      <td>1125763.0</td>\n",
       "    </tr>\n",
       "  </tbody>\n",
       "</table>\n",
       "</div>"
      ],
      "text/plain": [
       "  state/region     ages  year  population\n",
       "0           AL  under18  2012   1117489.0\n",
       "1           AL    total  2012   4817528.0\n",
       "2           AL  under18  2010   1130966.0\n",
       "3           AL    total  2010   4785570.0\n",
       "4           AL  under18  2011   1125763.0"
      ]
     },
     "execution_count": 84,
     "metadata": {},
     "output_type": "execute_result"
    }
   ],
   "source": [
    "population.head()"
   ]
  },
  {
   "cell_type": "code",
   "execution_count": 86,
   "metadata": {},
   "outputs": [
    {
     "data": {
      "text/html": [
       "<div>\n",
       "<style scoped>\n",
       "    .dataframe tbody tr th:only-of-type {\n",
       "        vertical-align: middle;\n",
       "    }\n",
       "\n",
       "    .dataframe tbody tr th {\n",
       "        vertical-align: top;\n",
       "    }\n",
       "\n",
       "    .dataframe thead th {\n",
       "        text-align: right;\n",
       "    }\n",
       "</style>\n",
       "<table border=\"1\" class=\"dataframe\">\n",
       "  <thead>\n",
       "    <tr style=\"text-align: right;\">\n",
       "      <th></th>\n",
       "      <th>population</th>\n",
       "    </tr>\n",
       "  </thead>\n",
       "  <tbody>\n",
       "    <tr>\n",
       "      <th>0</th>\n",
       "      <td>7.355255e+06</td>\n",
       "    </tr>\n",
       "    <tr>\n",
       "      <th>1</th>\n",
       "      <td>7.355255e+06</td>\n",
       "    </tr>\n",
       "    <tr>\n",
       "      <th>2</th>\n",
       "      <td>7.278395e+06</td>\n",
       "    </tr>\n",
       "    <tr>\n",
       "      <th>3</th>\n",
       "      <td>7.278395e+06</td>\n",
       "    </tr>\n",
       "    <tr>\n",
       "      <th>4</th>\n",
       "      <td>7.316278e+06</td>\n",
       "    </tr>\n",
       "  </tbody>\n",
       "</table>\n",
       "</div>"
      ],
      "text/plain": [
       "     population\n",
       "0  7.355255e+06\n",
       "1  7.355255e+06\n",
       "2  7.278395e+06\n",
       "3  7.278395e+06\n",
       "4  7.316278e+06"
      ]
     },
     "execution_count": 86,
     "metadata": {},
     "output_type": "execute_result"
    }
   ],
   "source": [
    "population.groupby(\"year\")[[\"population\"]].transform(np.mean).head()"
   ]
  },
  {
   "cell_type": "code",
   "execution_count": 75,
   "metadata": {},
   "outputs": [],
   "source": [
    "population[\"mean_population\"] = population.groupby(\"year\")[\"population\"].transform(np.mean)"
   ]
  },
  {
   "cell_type": "code",
   "execution_count": 87,
   "metadata": {},
   "outputs": [
    {
     "data": {
      "text/html": [
       "<div>\n",
       "<style scoped>\n",
       "    .dataframe tbody tr th:only-of-type {\n",
       "        vertical-align: middle;\n",
       "    }\n",
       "\n",
       "    .dataframe tbody tr th {\n",
       "        vertical-align: top;\n",
       "    }\n",
       "\n",
       "    .dataframe thead th {\n",
       "        text-align: right;\n",
       "    }\n",
       "</style>\n",
       "<table border=\"1\" class=\"dataframe\">\n",
       "  <thead>\n",
       "    <tr style=\"text-align: right;\">\n",
       "      <th></th>\n",
       "      <th>state/region</th>\n",
       "      <th>ages</th>\n",
       "      <th>year</th>\n",
       "      <th>population</th>\n",
       "    </tr>\n",
       "  </thead>\n",
       "  <tbody>\n",
       "    <tr>\n",
       "      <th>0</th>\n",
       "      <td>AL</td>\n",
       "      <td>under18</td>\n",
       "      <td>2012</td>\n",
       "      <td>1117489.0</td>\n",
       "    </tr>\n",
       "    <tr>\n",
       "      <th>1</th>\n",
       "      <td>AL</td>\n",
       "      <td>total</td>\n",
       "      <td>2012</td>\n",
       "      <td>4817528.0</td>\n",
       "    </tr>\n",
       "    <tr>\n",
       "      <th>2</th>\n",
       "      <td>AL</td>\n",
       "      <td>under18</td>\n",
       "      <td>2010</td>\n",
       "      <td>1130966.0</td>\n",
       "    </tr>\n",
       "    <tr>\n",
       "      <th>3</th>\n",
       "      <td>AL</td>\n",
       "      <td>total</td>\n",
       "      <td>2010</td>\n",
       "      <td>4785570.0</td>\n",
       "    </tr>\n",
       "    <tr>\n",
       "      <th>4</th>\n",
       "      <td>AL</td>\n",
       "      <td>under18</td>\n",
       "      <td>2011</td>\n",
       "      <td>1125763.0</td>\n",
       "    </tr>\n",
       "  </tbody>\n",
       "</table>\n",
       "</div>"
      ],
      "text/plain": [
       "  state/region     ages  year  population\n",
       "0           AL  under18  2012   1117489.0\n",
       "1           AL    total  2012   4817528.0\n",
       "2           AL  under18  2010   1130966.0\n",
       "3           AL    total  2010   4785570.0\n",
       "4           AL  under18  2011   1125763.0"
      ]
     },
     "execution_count": 87,
     "metadata": {},
     "output_type": "execute_result"
    }
   ],
   "source": [
    "population.head()"
   ]
  },
  {
   "cell_type": "code",
   "execution_count": 69,
   "metadata": {},
   "outputs": [
    {
     "data": {
      "text/plain": [
       "year\n",
       "1990    6.035410e+06\n",
       "1991    6.121038e+06\n",
       "1992    6.211989e+06\n",
       "1993    6.298337e+06\n",
       "1994    6.380130e+06\n",
       "Name: population, dtype: float64"
      ]
     },
     "execution_count": 69,
     "metadata": {},
     "output_type": "execute_result"
    }
   ],
   "source": [
    "population.groupby(\"year\")[\"population\"].mean().head()"
   ]
  },
  {
   "cell_type": "code",
   "execution_count": 62,
   "metadata": {},
   "outputs": [
    {
     "data": {
      "text/html": [
       "<div>\n",
       "<style scoped>\n",
       "    .dataframe tbody tr th:only-of-type {\n",
       "        vertical-align: middle;\n",
       "    }\n",
       "\n",
       "    .dataframe tbody tr th {\n",
       "        vertical-align: top;\n",
       "    }\n",
       "\n",
       "    .dataframe thead tr th {\n",
       "        text-align: left;\n",
       "    }\n",
       "\n",
       "    .dataframe thead tr:last-of-type th {\n",
       "        text-align: right;\n",
       "    }\n",
       "</style>\n",
       "<table border=\"1\" class=\"dataframe\">\n",
       "  <thead>\n",
       "    <tr>\n",
       "      <th></th>\n",
       "      <th colspan=\"8\" halign=\"left\">population</th>\n",
       "    </tr>\n",
       "    <tr>\n",
       "      <th>ages</th>\n",
       "      <th colspan=\"4\" halign=\"left\">total</th>\n",
       "      <th colspan=\"4\" halign=\"left\">under18</th>\n",
       "    </tr>\n",
       "    <tr>\n",
       "      <th>state/region</th>\n",
       "      <th>AK</th>\n",
       "      <th>AL</th>\n",
       "      <th>AR</th>\n",
       "      <th>AZ</th>\n",
       "      <th>AK</th>\n",
       "      <th>AL</th>\n",
       "      <th>AR</th>\n",
       "      <th>AZ</th>\n",
       "    </tr>\n",
       "    <tr>\n",
       "      <th>year</th>\n",
       "      <th></th>\n",
       "      <th></th>\n",
       "      <th></th>\n",
       "      <th></th>\n",
       "      <th></th>\n",
       "      <th></th>\n",
       "      <th></th>\n",
       "      <th></th>\n",
       "    </tr>\n",
       "  </thead>\n",
       "  <tbody>\n",
       "    <tr>\n",
       "      <th>1990</th>\n",
       "      <td>553290.0</td>\n",
       "      <td>4050055.0</td>\n",
       "      <td>2356586.0</td>\n",
       "      <td>3684097.0</td>\n",
       "      <td>177502.0</td>\n",
       "      <td>1050041.0</td>\n",
       "      <td>620933.0</td>\n",
       "      <td>1006040.0</td>\n",
       "    </tr>\n",
       "    <tr>\n",
       "      <th>1991</th>\n",
       "      <td>570193.0</td>\n",
       "      <td>4099156.0</td>\n",
       "      <td>2383144.0</td>\n",
       "      <td>3788576.0</td>\n",
       "      <td>182180.0</td>\n",
       "      <td>1060794.0</td>\n",
       "      <td>626212.0</td>\n",
       "      <td>1028285.0</td>\n",
       "    </tr>\n",
       "    <tr>\n",
       "      <th>1992</th>\n",
       "      <td>588736.0</td>\n",
       "      <td>4154014.0</td>\n",
       "      <td>2415984.0</td>\n",
       "      <td>3915740.0</td>\n",
       "      <td>184878.0</td>\n",
       "      <td>1072873.0</td>\n",
       "      <td>638269.0</td>\n",
       "      <td>1055572.0</td>\n",
       "    </tr>\n",
       "    <tr>\n",
       "      <th>1993</th>\n",
       "      <td>599434.0</td>\n",
       "      <td>4214202.0</td>\n",
       "      <td>2456303.0</td>\n",
       "      <td>4065440.0</td>\n",
       "      <td>187190.0</td>\n",
       "      <td>1085606.0</td>\n",
       "      <td>643474.0</td>\n",
       "      <td>1094233.0</td>\n",
       "    </tr>\n",
       "    <tr>\n",
       "      <th>1994</th>\n",
       "      <td>603308.0</td>\n",
       "      <td>4260229.0</td>\n",
       "      <td>2494019.0</td>\n",
       "      <td>4245089.0</td>\n",
       "      <td>187439.0</td>\n",
       "      <td>1097180.0</td>\n",
       "      <td>653842.0</td>\n",
       "      <td>1119857.0</td>\n",
       "    </tr>\n",
       "    <tr>\n",
       "      <th>1995</th>\n",
       "      <td>604412.0</td>\n",
       "      <td>4296800.0</td>\n",
       "      <td>2535399.0</td>\n",
       "      <td>4432499.0</td>\n",
       "      <td>184990.0</td>\n",
       "      <td>1110553.0</td>\n",
       "      <td>667671.0</td>\n",
       "      <td>1173391.0</td>\n",
       "    </tr>\n",
       "    <tr>\n",
       "      <th>1996</th>\n",
       "      <td>608569.0</td>\n",
       "      <td>4331103.0</td>\n",
       "      <td>2572109.0</td>\n",
       "      <td>4586940.0</td>\n",
       "      <td>185360.0</td>\n",
       "      <td>1112092.0</td>\n",
       "      <td>677912.0</td>\n",
       "      <td>1215285.0</td>\n",
       "    </tr>\n",
       "    <tr>\n",
       "      <th>1997</th>\n",
       "      <td>612968.0</td>\n",
       "      <td>4367935.0</td>\n",
       "      <td>2601091.0</td>\n",
       "      <td>4736990.0</td>\n",
       "      <td>188280.0</td>\n",
       "      <td>1122893.0</td>\n",
       "      <td>680203.0</td>\n",
       "      <td>1237159.0</td>\n",
       "    </tr>\n",
       "    <tr>\n",
       "      <th>1998</th>\n",
       "      <td>619933.0</td>\n",
       "      <td>4404701.0</td>\n",
       "      <td>2626289.0</td>\n",
       "      <td>4883342.0</td>\n",
       "      <td>192636.0</td>\n",
       "      <td>1118252.0</td>\n",
       "      <td>683637.0</td>\n",
       "      <td>1285794.0</td>\n",
       "    </tr>\n",
       "    <tr>\n",
       "      <th>1999</th>\n",
       "      <td>624779.0</td>\n",
       "      <td>4430141.0</td>\n",
       "      <td>2651860.0</td>\n",
       "      <td>5023823.0</td>\n",
       "      <td>191422.0</td>\n",
       "      <td>1121287.0</td>\n",
       "      <td>681940.0</td>\n",
       "      <td>1332396.0</td>\n",
       "    </tr>\n",
       "    <tr>\n",
       "      <th>2000</th>\n",
       "      <td>627963.0</td>\n",
       "      <td>4452173.0</td>\n",
       "      <td>2678588.0</td>\n",
       "      <td>5160586.0</td>\n",
       "      <td>190615.0</td>\n",
       "      <td>1122273.0</td>\n",
       "      <td>680378.0</td>\n",
       "      <td>1373414.0</td>\n",
       "    </tr>\n",
       "    <tr>\n",
       "      <th>2001</th>\n",
       "      <td>633714.0</td>\n",
       "      <td>4467634.0</td>\n",
       "      <td>2691571.0</td>\n",
       "      <td>5273477.0</td>\n",
       "      <td>188771.0</td>\n",
       "      <td>1120409.0</td>\n",
       "      <td>679606.0</td>\n",
       "      <td>1399015.0</td>\n",
       "    </tr>\n",
       "    <tr>\n",
       "      <th>2002</th>\n",
       "      <td>642337.0</td>\n",
       "      <td>4480089.0</td>\n",
       "      <td>2705927.0</td>\n",
       "      <td>5396255.0</td>\n",
       "      <td>188482.0</td>\n",
       "      <td>1116590.0</td>\n",
       "      <td>678798.0</td>\n",
       "      <td>1427938.0</td>\n",
       "    </tr>\n",
       "    <tr>\n",
       "      <th>2003</th>\n",
       "      <td>648414.0</td>\n",
       "      <td>4503491.0</td>\n",
       "      <td>2724816.0</td>\n",
       "      <td>5510364.0</td>\n",
       "      <td>186843.0</td>\n",
       "      <td>1113083.0</td>\n",
       "      <td>679579.0</td>\n",
       "      <td>1453671.0</td>\n",
       "    </tr>\n",
       "    <tr>\n",
       "      <th>2004</th>\n",
       "      <td>659286.0</td>\n",
       "      <td>4530729.0</td>\n",
       "      <td>2749686.0</td>\n",
       "      <td>5652404.0</td>\n",
       "      <td>186335.0</td>\n",
       "      <td>1113662.0</td>\n",
       "      <td>683166.0</td>\n",
       "      <td>1484454.0</td>\n",
       "    </tr>\n",
       "    <tr>\n",
       "      <th>2005</th>\n",
       "      <td>666946.0</td>\n",
       "      <td>4569805.0</td>\n",
       "      <td>2781097.0</td>\n",
       "      <td>5839077.0</td>\n",
       "      <td>185304.0</td>\n",
       "      <td>1117229.0</td>\n",
       "      <td>689787.0</td>\n",
       "      <td>1529168.0</td>\n",
       "    </tr>\n",
       "    <tr>\n",
       "      <th>2006</th>\n",
       "      <td>675302.0</td>\n",
       "      <td>4628981.0</td>\n",
       "      <td>2821761.0</td>\n",
       "      <td>6029141.0</td>\n",
       "      <td>185580.0</td>\n",
       "      <td>1126798.0</td>\n",
       "      <td>697842.0</td>\n",
       "      <td>1574867.0</td>\n",
       "    </tr>\n",
       "    <tr>\n",
       "      <th>2007</th>\n",
       "      <td>680300.0</td>\n",
       "      <td>4672840.0</td>\n",
       "      <td>2848650.0</td>\n",
       "      <td>6167681.0</td>\n",
       "      <td>184344.0</td>\n",
       "      <td>1132296.0</td>\n",
       "      <td>702737.0</td>\n",
       "      <td>1607895.0</td>\n",
       "    </tr>\n",
       "    <tr>\n",
       "      <th>2008</th>\n",
       "      <td>687455.0</td>\n",
       "      <td>4718206.0</td>\n",
       "      <td>2874554.0</td>\n",
       "      <td>6280362.0</td>\n",
       "      <td>183124.0</td>\n",
       "      <td>1134927.0</td>\n",
       "      <td>705725.0</td>\n",
       "      <td>1628651.0</td>\n",
       "    </tr>\n",
       "    <tr>\n",
       "      <th>2009</th>\n",
       "      <td>698895.0</td>\n",
       "      <td>4757938.0</td>\n",
       "      <td>2896843.0</td>\n",
       "      <td>6343154.0</td>\n",
       "      <td>186351.0</td>\n",
       "      <td>1134192.0</td>\n",
       "      <td>707886.0</td>\n",
       "      <td>1627343.0</td>\n",
       "    </tr>\n",
       "    <tr>\n",
       "      <th>2010</th>\n",
       "      <td>713868.0</td>\n",
       "      <td>4785570.0</td>\n",
       "      <td>2922280.0</td>\n",
       "      <td>6408790.0</td>\n",
       "      <td>187902.0</td>\n",
       "      <td>1130966.0</td>\n",
       "      <td>711947.0</td>\n",
       "      <td>1628563.0</td>\n",
       "    </tr>\n",
       "    <tr>\n",
       "      <th>2011</th>\n",
       "      <td>723375.0</td>\n",
       "      <td>4801627.0</td>\n",
       "      <td>2938506.0</td>\n",
       "      <td>6468796.0</td>\n",
       "      <td>188329.0</td>\n",
       "      <td>1125763.0</td>\n",
       "      <td>710576.0</td>\n",
       "      <td>1616353.0</td>\n",
       "    </tr>\n",
       "    <tr>\n",
       "      <th>2012</th>\n",
       "      <td>730307.0</td>\n",
       "      <td>4817528.0</td>\n",
       "      <td>2949828.0</td>\n",
       "      <td>6551149.0</td>\n",
       "      <td>188162.0</td>\n",
       "      <td>1117489.0</td>\n",
       "      <td>710471.0</td>\n",
       "      <td>1617149.0</td>\n",
       "    </tr>\n",
       "    <tr>\n",
       "      <th>2013</th>\n",
       "      <td>735132.0</td>\n",
       "      <td>4833722.0</td>\n",
       "      <td>2959373.0</td>\n",
       "      <td>6626624.0</td>\n",
       "      <td>188132.0</td>\n",
       "      <td>1111481.0</td>\n",
       "      <td>709866.0</td>\n",
       "      <td>1616814.0</td>\n",
       "    </tr>\n",
       "  </tbody>\n",
       "</table>\n",
       "</div>"
      ],
      "text/plain": [
       "             population                                                        \\\n",
       "ages              total                                    under18              \n",
       "state/region         AK         AL         AR         AZ        AK         AL   \n",
       "year                                                                            \n",
       "1990           553290.0  4050055.0  2356586.0  3684097.0  177502.0  1050041.0   \n",
       "1991           570193.0  4099156.0  2383144.0  3788576.0  182180.0  1060794.0   \n",
       "1992           588736.0  4154014.0  2415984.0  3915740.0  184878.0  1072873.0   \n",
       "1993           599434.0  4214202.0  2456303.0  4065440.0  187190.0  1085606.0   \n",
       "1994           603308.0  4260229.0  2494019.0  4245089.0  187439.0  1097180.0   \n",
       "1995           604412.0  4296800.0  2535399.0  4432499.0  184990.0  1110553.0   \n",
       "1996           608569.0  4331103.0  2572109.0  4586940.0  185360.0  1112092.0   \n",
       "1997           612968.0  4367935.0  2601091.0  4736990.0  188280.0  1122893.0   \n",
       "1998           619933.0  4404701.0  2626289.0  4883342.0  192636.0  1118252.0   \n",
       "1999           624779.0  4430141.0  2651860.0  5023823.0  191422.0  1121287.0   \n",
       "2000           627963.0  4452173.0  2678588.0  5160586.0  190615.0  1122273.0   \n",
       "2001           633714.0  4467634.0  2691571.0  5273477.0  188771.0  1120409.0   \n",
       "2002           642337.0  4480089.0  2705927.0  5396255.0  188482.0  1116590.0   \n",
       "2003           648414.0  4503491.0  2724816.0  5510364.0  186843.0  1113083.0   \n",
       "2004           659286.0  4530729.0  2749686.0  5652404.0  186335.0  1113662.0   \n",
       "2005           666946.0  4569805.0  2781097.0  5839077.0  185304.0  1117229.0   \n",
       "2006           675302.0  4628981.0  2821761.0  6029141.0  185580.0  1126798.0   \n",
       "2007           680300.0  4672840.0  2848650.0  6167681.0  184344.0  1132296.0   \n",
       "2008           687455.0  4718206.0  2874554.0  6280362.0  183124.0  1134927.0   \n",
       "2009           698895.0  4757938.0  2896843.0  6343154.0  186351.0  1134192.0   \n",
       "2010           713868.0  4785570.0  2922280.0  6408790.0  187902.0  1130966.0   \n",
       "2011           723375.0  4801627.0  2938506.0  6468796.0  188329.0  1125763.0   \n",
       "2012           730307.0  4817528.0  2949828.0  6551149.0  188162.0  1117489.0   \n",
       "2013           735132.0  4833722.0  2959373.0  6626624.0  188132.0  1111481.0   \n",
       "\n",
       "                                   \n",
       "ages                               \n",
       "state/region        AR         AZ  \n",
       "year                               \n",
       "1990          620933.0  1006040.0  \n",
       "1991          626212.0  1028285.0  \n",
       "1992          638269.0  1055572.0  \n",
       "1993          643474.0  1094233.0  \n",
       "1994          653842.0  1119857.0  \n",
       "1995          667671.0  1173391.0  \n",
       "1996          677912.0  1215285.0  \n",
       "1997          680203.0  1237159.0  \n",
       "1998          683637.0  1285794.0  \n",
       "1999          681940.0  1332396.0  \n",
       "2000          680378.0  1373414.0  \n",
       "2001          679606.0  1399015.0  \n",
       "2002          678798.0  1427938.0  \n",
       "2003          679579.0  1453671.0  \n",
       "2004          683166.0  1484454.0  \n",
       "2005          689787.0  1529168.0  \n",
       "2006          697842.0  1574867.0  \n",
       "2007          702737.0  1607895.0  \n",
       "2008          705725.0  1628651.0  \n",
       "2009          707886.0  1627343.0  \n",
       "2010          711947.0  1628563.0  \n",
       "2011          710576.0  1616353.0  \n",
       "2012          710471.0  1617149.0  \n",
       "2013          709866.0  1616814.0  "
      ]
     },
     "execution_count": 62,
     "metadata": {},
     "output_type": "execute_result"
    }
   ],
   "source": [
    "population.loc[population[\"state/region\"].str.startswith(\"A\")].groupby([\n",
    "    \"year\", \"state/region\", \"ages\"\n",
    "]).mean().unstack().unstack()#[(\"population\", \"total\")]"
   ]
  },
  {
   "cell_type": "code",
   "execution_count": 32,
   "metadata": {},
   "outputs": [
    {
     "data": {
      "text/html": [
       "<div>\n",
       "<style scoped>\n",
       "    .dataframe tbody tr th:only-of-type {\n",
       "        vertical-align: middle;\n",
       "    }\n",
       "\n",
       "    .dataframe tbody tr th {\n",
       "        vertical-align: top;\n",
       "    }\n",
       "\n",
       "    .dataframe thead tr th {\n",
       "        text-align: left;\n",
       "    }\n",
       "\n",
       "    .dataframe thead tr:last-of-type th {\n",
       "        text-align: right;\n",
       "    }\n",
       "</style>\n",
       "<table border=\"1\" class=\"dataframe\">\n",
       "  <thead>\n",
       "    <tr>\n",
       "      <th></th>\n",
       "      <th colspan=\"21\" halign=\"left\">population</th>\n",
       "    </tr>\n",
       "    <tr>\n",
       "      <th>state/region</th>\n",
       "      <th>AK</th>\n",
       "      <th>AL</th>\n",
       "      <th>AR</th>\n",
       "      <th>AZ</th>\n",
       "      <th>CA</th>\n",
       "      <th>CO</th>\n",
       "      <th>CT</th>\n",
       "      <th>DC</th>\n",
       "      <th>DE</th>\n",
       "      <th>FL</th>\n",
       "      <th>...</th>\n",
       "      <th>TN</th>\n",
       "      <th>TX</th>\n",
       "      <th>USA</th>\n",
       "      <th>UT</th>\n",
       "      <th>VA</th>\n",
       "      <th>VT</th>\n",
       "      <th>WA</th>\n",
       "      <th>WI</th>\n",
       "      <th>WV</th>\n",
       "      <th>WY</th>\n",
       "    </tr>\n",
       "    <tr>\n",
       "      <th>year</th>\n",
       "      <th></th>\n",
       "      <th></th>\n",
       "      <th></th>\n",
       "      <th></th>\n",
       "      <th></th>\n",
       "      <th></th>\n",
       "      <th></th>\n",
       "      <th></th>\n",
       "      <th></th>\n",
       "      <th></th>\n",
       "      <th></th>\n",
       "      <th></th>\n",
       "      <th></th>\n",
       "      <th></th>\n",
       "      <th></th>\n",
       "      <th></th>\n",
       "      <th></th>\n",
       "      <th></th>\n",
       "      <th></th>\n",
       "      <th></th>\n",
       "      <th></th>\n",
       "    </tr>\n",
       "  </thead>\n",
       "  <tbody>\n",
       "    <tr>\n",
       "      <th>1990</th>\n",
       "      <td>365396.0</td>\n",
       "      <td>2550048.0</td>\n",
       "      <td>1488759.5</td>\n",
       "      <td>2345068.5</td>\n",
       "      <td>18970008.0</td>\n",
       "      <td>2094629.0</td>\n",
       "      <td>2022316.5</td>\n",
       "      <td>358976.5</td>\n",
       "      <td>417597.5</td>\n",
       "      <td>8011057.0</td>\n",
       "      <td>...</td>\n",
       "      <td>3057346.0</td>\n",
       "      <td>10981487.5</td>\n",
       "      <td>156920663.0</td>\n",
       "      <td>1179172.5</td>\n",
       "      <td>3868777.0</td>\n",
       "      <td>354047.0</td>\n",
       "      <td>3102294.0</td>\n",
       "      <td>3103715.5</td>\n",
       "      <td>1114672.5</td>\n",
       "      <td>294884.0</td>\n",
       "    </tr>\n",
       "    <tr>\n",
       "      <th>1991</th>\n",
       "      <td>376186.5</td>\n",
       "      <td>2579975.0</td>\n",
       "      <td>1504678.0</td>\n",
       "      <td>2408430.5</td>\n",
       "      <td>19358170.5</td>\n",
       "      <td>2141828.0</td>\n",
       "      <td>2034599.5</td>\n",
       "      <td>358847.5</td>\n",
       "      <td>426495.0</td>\n",
       "      <td>8207718.0</td>\n",
       "      <td>...</td>\n",
       "      <td>3099923.5</td>\n",
       "      <td>11199399.0</td>\n",
       "      <td>159146980.0</td>\n",
       "      <td>1208498.0</td>\n",
       "      <td>3924737.5</td>\n",
       "      <td>356912.5</td>\n",
       "      <td>3176075.5</td>\n",
       "      <td>3139599.0</td>\n",
       "      <td>1116326.5</td>\n",
       "      <td>297990.0</td>\n",
       "    </tr>\n",
       "    <tr>\n",
       "      <th>1992</th>\n",
       "      <td>386807.0</td>\n",
       "      <td>2613443.5</td>\n",
       "      <td>1527126.5</td>\n",
       "      <td>2485656.0</td>\n",
       "      <td>19707153.0</td>\n",
       "      <td>2210758.0</td>\n",
       "      <td>2038988.0</td>\n",
       "      <td>358101.5</td>\n",
       "      <td>434546.5</td>\n",
       "      <td>8385496.0</td>\n",
       "      <td>...</td>\n",
       "      <td>3154600.0</td>\n",
       "      <td>11434771.5</td>\n",
       "      <td>161511704.0</td>\n",
       "      <td>1242762.0</td>\n",
       "      <td>3997925.5</td>\n",
       "      <td>359867.0</td>\n",
       "      <td>3263118.5</td>\n",
       "      <td>3177976.5</td>\n",
       "      <td>1119783.5</td>\n",
       "      <td>301779.5</td>\n",
       "    </tr>\n",
       "    <tr>\n",
       "      <th>1993</th>\n",
       "      <td>393312.0</td>\n",
       "      <td>2649904.0</td>\n",
       "      <td>1549888.5</td>\n",
       "      <td>2579836.5</td>\n",
       "      <td>19949869.0</td>\n",
       "      <td>2280770.0</td>\n",
       "      <td>2049962.0</td>\n",
       "      <td>357886.5</td>\n",
       "      <td>441647.0</td>\n",
       "      <td>8570625.5</td>\n",
       "      <td>...</td>\n",
       "      <td>3211314.0</td>\n",
       "      <td>11689755.5</td>\n",
       "      <td>163756766.5</td>\n",
       "      <td>1280686.0</td>\n",
       "      <td>4057194.0</td>\n",
       "      <td>363226.5</td>\n",
       "      <td>3333279.0</td>\n",
       "      <td>3211111.5</td>\n",
       "      <td>1124951.5</td>\n",
       "      <td>305269.5</td>\n",
       "    </tr>\n",
       "    <tr>\n",
       "      <th>1994</th>\n",
       "      <td>395373.5</td>\n",
       "      <td>2678704.5</td>\n",
       "      <td>1573930.5</td>\n",
       "      <td>2682473.0</td>\n",
       "      <td>20137246.5</td>\n",
       "      <td>2345290.0</td>\n",
       "      <td>2058676.0</td>\n",
       "      <td>355705.0</td>\n",
       "      <td>449189.0</td>\n",
       "      <td>8769665.5</td>\n",
       "      <td>...</td>\n",
       "      <td>3271213.0</td>\n",
       "      <td>11947793.0</td>\n",
       "      <td>165883381.0</td>\n",
       "      <td>1317190.5</td>\n",
       "      <td>4110925.0</td>\n",
       "      <td>367315.0</td>\n",
       "      <td>3392541.5</td>\n",
       "      <td>3240894.0</td>\n",
       "      <td>1124774.5</td>\n",
       "      <td>309008.0</td>\n",
       "    </tr>\n",
       "    <tr>\n",
       "      <th>1995</th>\n",
       "      <td>394701.0</td>\n",
       "      <td>2703676.5</td>\n",
       "      <td>1601535.0</td>\n",
       "      <td>2802945.0</td>\n",
       "      <td>20308580.0</td>\n",
       "      <td>2405481.5</td>\n",
       "      <td>2066383.5</td>\n",
       "      <td>352069.5</td>\n",
       "      <td>455735.5</td>\n",
       "      <td>8952171.5</td>\n",
       "      <td>...</td>\n",
       "      <td>3329276.0</td>\n",
       "      <td>12190267.5</td>\n",
       "      <td>167875771.5</td>\n",
       "      <td>1346907.5</td>\n",
       "      <td>4159849.0</td>\n",
       "      <td>370221.0</td>\n",
       "      <td>3455212.0</td>\n",
       "      <td>3268089.5</td>\n",
       "      <td>1126245.0</td>\n",
       "      <td>310972.5</td>\n",
       "    </tr>\n",
       "    <tr>\n",
       "      <th>1996</th>\n",
       "      <td>396964.5</td>\n",
       "      <td>2721597.5</td>\n",
       "      <td>1625010.5</td>\n",
       "      <td>2901112.5</td>\n",
       "      <td>20549176.5</td>\n",
       "      <td>2461959.0</td>\n",
       "      <td>2074270.0</td>\n",
       "      <td>346794.5</td>\n",
       "      <td>462499.5</td>\n",
       "      <td>9142527.5</td>\n",
       "      <td>...</td>\n",
       "      <td>3381183.0</td>\n",
       "      <td>12445894.5</td>\n",
       "      <td>169813901.5</td>\n",
       "      <td>1377527.0</td>\n",
       "      <td>4207515.5</td>\n",
       "      <td>372595.5</td>\n",
       "      <td>3509683.0</td>\n",
       "      <td>3291431.5</td>\n",
       "      <td>1122819.5</td>\n",
       "      <td>311932.5</td>\n",
       "    </tr>\n",
       "    <tr>\n",
       "      <th>1997</th>\n",
       "      <td>400624.0</td>\n",
       "      <td>2745414.0</td>\n",
       "      <td>1640647.0</td>\n",
       "      <td>2987074.5</td>\n",
       "      <td>20810684.5</td>\n",
       "      <td>2524425.0</td>\n",
       "      <td>2081860.5</td>\n",
       "      <td>343635.0</td>\n",
       "      <td>469047.0</td>\n",
       "      <td>9344286.5</td>\n",
       "      <td>...</td>\n",
       "      <td>3429131.5</td>\n",
       "      <td>12697899.5</td>\n",
       "      <td>171783835.0</td>\n",
       "      <td>1409656.0</td>\n",
       "      <td>4256474.5</td>\n",
       "      <td>373639.5</td>\n",
       "      <td>3574196.5</td>\n",
       "      <td>3312962.5</td>\n",
       "      <td>1118575.0</td>\n",
       "      <td>311890.0</td>\n",
       "    </tr>\n",
       "    <tr>\n",
       "      <th>1998</th>\n",
       "      <td>406284.5</td>\n",
       "      <td>2761476.5</td>\n",
       "      <td>1654963.0</td>\n",
       "      <td>3084568.0</td>\n",
       "      <td>21075456.5</td>\n",
       "      <td>2588352.5</td>\n",
       "      <td>2094976.0</td>\n",
       "      <td>339535.5</td>\n",
       "      <td>476318.5</td>\n",
       "      <td>9522060.0</td>\n",
       "      <td>...</td>\n",
       "      <td>3470016.0</td>\n",
       "      <td>12958292.5</td>\n",
       "      <td>173642761.0</td>\n",
       "      <td>1437673.5</td>\n",
       "      <td>4303589.5</td>\n",
       "      <td>374441.5</td>\n",
       "      <td>3632173.0</td>\n",
       "      <td>3330290.0</td>\n",
       "      <td>1114201.0</td>\n",
       "      <td>311694.5</td>\n",
       "    </tr>\n",
       "    <tr>\n",
       "      <th>1999</th>\n",
       "      <td>408100.5</td>\n",
       "      <td>2775714.0</td>\n",
       "      <td>1666900.0</td>\n",
       "      <td>3178109.5</td>\n",
       "      <td>21353541.0</td>\n",
       "      <td>2654978.0</td>\n",
       "      <td>2110527.5</td>\n",
       "      <td>342611.5</td>\n",
       "      <td>483750.0</td>\n",
       "      <td>9685566.0</td>\n",
       "      <td>...</td>\n",
       "      <td>3512351.5</td>\n",
       "      <td>13199215.5</td>\n",
       "      <td>175493116.0</td>\n",
       "      <td>1459440.0</td>\n",
       "      <td>4361649.5</td>\n",
       "      <td>376271.0</td>\n",
       "      <td>3675194.0</td>\n",
       "      <td>3349842.5</td>\n",
       "      <td>1109291.5</td>\n",
       "      <td>311286.5</td>\n",
       "    </tr>\n",
       "    <tr>\n",
       "      <th>2000</th>\n",
       "      <td>409289.0</td>\n",
       "      <td>2787223.0</td>\n",
       "      <td>1679483.0</td>\n",
       "      <td>3267000.0</td>\n",
       "      <td>21627533.0</td>\n",
       "      <td>2716798.5</td>\n",
       "      <td>2127009.5</td>\n",
       "      <td>343274.5</td>\n",
       "      <td>490643.5</td>\n",
       "      <td>9851197.5</td>\n",
       "      <td>...</td>\n",
       "      <td>3551702.0</td>\n",
       "      <td>13425400.0</td>\n",
       "      <td>177269300.0</td>\n",
       "      <td>1483094.0</td>\n",
       "      <td>4423618.5</td>\n",
       "      <td>378583.5</td>\n",
       "      <td>3713436.5</td>\n",
       "      <td>3372219.5</td>\n",
       "      <td>1104041.5</td>\n",
       "      <td>311537.0</td>\n",
       "    </tr>\n",
       "    <tr>\n",
       "      <th>2001</th>\n",
       "      <td>411242.5</td>\n",
       "      <td>2794021.5</td>\n",
       "      <td>1685588.5</td>\n",
       "      <td>3336246.0</td>\n",
       "      <td>21902462.0</td>\n",
       "      <td>2776167.0</td>\n",
       "      <td>2139342.5</td>\n",
       "      <td>344564.5</td>\n",
       "      <td>495868.5</td>\n",
       "      <td>10035702.5</td>\n",
       "      <td>...</td>\n",
       "      <td>3579183.5</td>\n",
       "      <td>13649904.5</td>\n",
       "      <td>178820065.0</td>\n",
       "      <td>1505267.0</td>\n",
       "      <td>4476455.5</td>\n",
       "      <td>379131.5</td>\n",
       "      <td>3751624.5</td>\n",
       "      <td>3387214.0</td>\n",
       "      <td>1098394.0</td>\n",
       "      <td>310434.5</td>\n",
       "    </tr>\n",
       "    <tr>\n",
       "      <th>2002</th>\n",
       "      <td>415409.5</td>\n",
       "      <td>2798339.5</td>\n",
       "      <td>1692362.5</td>\n",
       "      <td>3412096.5</td>\n",
       "      <td>22118492.5</td>\n",
       "      <td>2814339.5</td>\n",
       "      <td>2153813.0</td>\n",
       "      <td>343490.0</td>\n",
       "      <td>501557.5</td>\n",
       "      <td>10231997.0</td>\n",
       "      <td>...</td>\n",
       "      <td>3605387.5</td>\n",
       "      <td>13875348.5</td>\n",
       "      <td>180280825.0</td>\n",
       "      <td>1529166.0</td>\n",
       "      <td>4529060.0</td>\n",
       "      <td>379941.5</td>\n",
       "      <td>3785002.0</td>\n",
       "      <td>3405238.5</td>\n",
       "      <td>1099491.5</td>\n",
       "      <td>312756.0</td>\n",
       "    </tr>\n",
       "    <tr>\n",
       "      <th>2003</th>\n",
       "      <td>417628.5</td>\n",
       "      <td>2808287.0</td>\n",
       "      <td>1702197.5</td>\n",
       "      <td>3482017.5</td>\n",
       "      <td>22328876.5</td>\n",
       "      <td>2836664.5</td>\n",
       "      <td>2167725.5</td>\n",
       "      <td>339952.5</td>\n",
       "      <td>508024.0</td>\n",
       "      <td>10412480.5</td>\n",
       "      <td>...</td>\n",
       "      <td>3636336.5</td>\n",
       "      <td>14081955.5</td>\n",
       "      <td>181604345.5</td>\n",
       "      <td>1550310.0</td>\n",
       "      <td>4574615.5</td>\n",
       "      <td>380288.0</td>\n",
       "      <td>3809496.0</td>\n",
       "      <td>3418854.0</td>\n",
       "      <td>1102377.5</td>\n",
       "      <td>313817.5</td>\n",
       "    </tr>\n",
       "    <tr>\n",
       "      <th>2004</th>\n",
       "      <td>422810.5</td>\n",
       "      <td>2822195.5</td>\n",
       "      <td>1716426.0</td>\n",
       "      <td>3568429.0</td>\n",
       "      <td>22496536.5</td>\n",
       "      <td>2860691.0</td>\n",
       "      <td>2172536.5</td>\n",
       "      <td>338755.0</td>\n",
       "      <td>515217.0</td>\n",
       "      <td>10653026.0</td>\n",
       "      <td>...</td>\n",
       "      <td>3672076.0</td>\n",
       "      <td>14301141.0</td>\n",
       "      <td>183051516.5</td>\n",
       "      <td>1576675.5</td>\n",
       "      <td>4638766.5</td>\n",
       "      <td>380494.0</td>\n",
       "      <td>3849698.0</td>\n",
       "      <td>3434334.5</td>\n",
       "      <td>1104147.0</td>\n",
       "      <td>316540.0</td>\n",
       "    </tr>\n",
       "    <tr>\n",
       "      <th>2005</th>\n",
       "      <td>426125.0</td>\n",
       "      <td>2843517.0</td>\n",
       "      <td>1735442.0</td>\n",
       "      <td>3684122.5</td>\n",
       "      <td>22616754.0</td>\n",
       "      <td>2894143.5</td>\n",
       "      <td>2175495.0</td>\n",
       "      <td>337161.5</td>\n",
       "      <td>523569.0</td>\n",
       "      <td>10905108.0</td>\n",
       "      <td>...</td>\n",
       "      <td>3720191.5</td>\n",
       "      <td>14534546.5</td>\n",
       "      <td>184520134.0</td>\n",
       "      <td>1612803.5</td>\n",
       "      <td>4696687.5</td>\n",
       "      <td>380074.0</td>\n",
       "      <td>3890597.5</td>\n",
       "      <td>3448016.0</td>\n",
       "      <td>1105461.5</td>\n",
       "      <td>319089.5</td>\n",
       "    </tr>\n",
       "    <tr>\n",
       "      <th>2006</th>\n",
       "      <td>430441.0</td>\n",
       "      <td>2877889.5</td>\n",
       "      <td>1759801.5</td>\n",
       "      <td>3802004.0</td>\n",
       "      <td>22696043.0</td>\n",
       "      <td>2946127.5</td>\n",
       "      <td>2178416.0</td>\n",
       "      <td>338166.0</td>\n",
       "      <td>531498.5</td>\n",
       "      <td>11094951.0</td>\n",
       "      <td>...</td>\n",
       "      <td>3779466.0</td>\n",
       "      <td>14903189.0</td>\n",
       "      <td>186068813.0</td>\n",
       "      <td>1657732.0</td>\n",
       "      <td>4750046.5</td>\n",
       "      <td>379811.5</td>\n",
       "      <td>3953839.5</td>\n",
       "      <td>3463220.0</td>\n",
       "      <td>1109274.5</td>\n",
       "      <td>324096.0</td>\n",
       "    </tr>\n",
       "    <tr>\n",
       "      <th>2007</th>\n",
       "      <td>432322.0</td>\n",
       "      <td>2902568.0</td>\n",
       "      <td>1775693.5</td>\n",
       "      <td>3887788.0</td>\n",
       "      <td>22792965.5</td>\n",
       "      <td>2996651.0</td>\n",
       "      <td>2180377.0</td>\n",
       "      <td>339265.0</td>\n",
       "      <td>538452.0</td>\n",
       "      <td>11199470.0</td>\n",
       "      <td>...</td>\n",
       "      <td>3829237.0</td>\n",
       "      <td>15198927.5</td>\n",
       "      <td>187625306.0</td>\n",
       "      <td>1706621.0</td>\n",
       "      <td>4792693.0</td>\n",
       "      <td>379088.0</td>\n",
       "      <td>4005584.5</td>\n",
       "      <td>3479838.0</td>\n",
       "      <td>1112356.5</td>\n",
       "      <td>331818.0</td>\n",
       "    </tr>\n",
       "    <tr>\n",
       "      <th>2008</th>\n",
       "      <td>435289.5</td>\n",
       "      <td>2926566.5</td>\n",
       "      <td>1790139.5</td>\n",
       "      <td>3954506.5</td>\n",
       "      <td>22962979.0</td>\n",
       "      <td>3046509.5</td>\n",
       "      <td>2186102.5</td>\n",
       "      <td>341246.5</td>\n",
       "      <td>544995.0</td>\n",
       "      <td>11272838.5</td>\n",
       "      <td>...</td>\n",
       "      <td>3870882.5</td>\n",
       "      <td>15492478.0</td>\n",
       "      <td>189099284.0</td>\n",
       "      <td>1750143.5</td>\n",
       "      <td>4835928.5</td>\n",
       "      <td>378375.5</td>\n",
       "      <td>4061266.5</td>\n",
       "      <td>3493284.5</td>\n",
       "      <td>1115260.0</td>\n",
       "      <td>338777.0</td>\n",
       "    </tr>\n",
       "    <tr>\n",
       "      <th>2009</th>\n",
       "      <td>442623.0</td>\n",
       "      <td>2946065.0</td>\n",
       "      <td>1802364.5</td>\n",
       "      <td>3985248.5</td>\n",
       "      <td>23127865.0</td>\n",
       "      <td>3094704.0</td>\n",
       "      <td>2191323.0</td>\n",
       "      <td>347163.0</td>\n",
       "      <td>548971.5</td>\n",
       "      <td>11324963.5</td>\n",
       "      <td>...</td>\n",
       "      <td>3900353.0</td>\n",
       "      <td>15797334.0</td>\n",
       "      <td>190452848.0</td>\n",
       "      <td>1790637.0</td>\n",
       "      <td>4885534.5</td>\n",
       "      <td>377633.5</td>\n",
       "      <td>4120914.5</td>\n",
       "      <td>3505837.5</td>\n",
       "      <td>1118405.5</td>\n",
       "      <td>347405.5</td>\n",
       "    </tr>\n",
       "    <tr>\n",
       "      <th>2010</th>\n",
       "      <td>450885.0</td>\n",
       "      <td>2958268.0</td>\n",
       "      <td>1817113.5</td>\n",
       "      <td>4018676.5</td>\n",
       "      <td>23308847.5</td>\n",
       "      <td>3137407.5</td>\n",
       "      <td>2196698.5</td>\n",
       "      <td>353217.0</td>\n",
       "      <td>552594.5</td>\n",
       "      <td>11422793.0</td>\n",
       "      <td>...</td>\n",
       "      <td>3925886.5</td>\n",
       "      <td>16062096.0</td>\n",
       "      <td>191722925.5</td>\n",
       "      <td>1823721.5</td>\n",
       "      <td>4939721.0</td>\n",
       "      <td>377197.0</td>\n",
       "      <td>4161846.0</td>\n",
       "      <td>3512577.0</td>\n",
       "      <td>1120685.0</td>\n",
       "      <td>349786.5</td>\n",
       "    </tr>\n",
       "    <tr>\n",
       "      <th>2011</th>\n",
       "      <td>455852.0</td>\n",
       "      <td>2963695.0</td>\n",
       "      <td>1824541.0</td>\n",
       "      <td>4042574.5</td>\n",
       "      <td>23460508.5</td>\n",
       "      <td>3174289.0</td>\n",
       "      <td>2197028.5</td>\n",
       "      <td>361765.0</td>\n",
       "      <td>556393.0</td>\n",
       "      <td>11543016.0</td>\n",
       "      <td>...</td>\n",
       "      <td>3945099.0</td>\n",
       "      <td>16286333.5</td>\n",
       "      <td>192742393.0</td>\n",
       "      <td>1848067.0</td>\n",
       "      <td>4981717.5</td>\n",
       "      <td>376410.0</td>\n",
       "      <td>4203095.0</td>\n",
       "      <td>3517327.5</td>\n",
       "      <td>1120233.5</td>\n",
       "      <td>351368.0</td>\n",
       "    </tr>\n",
       "    <tr>\n",
       "      <th>2012</th>\n",
       "      <td>459234.5</td>\n",
       "      <td>2967508.5</td>\n",
       "      <td>1830149.5</td>\n",
       "      <td>4084149.0</td>\n",
       "      <td>23604442.5</td>\n",
       "      <td>3211161.0</td>\n",
       "      <td>2193362.0</td>\n",
       "      <td>370534.5</td>\n",
       "      <td>560819.5</td>\n",
       "      <td>11666585.0</td>\n",
       "      <td>...</td>\n",
       "      <td>3973801.5</td>\n",
       "      <td>16523301.5</td>\n",
       "      <td>193790932.0</td>\n",
       "      <td>1871724.5</td>\n",
       "      <td>5023975.5</td>\n",
       "      <td>375254.0</td>\n",
       "      <td>4241884.5</td>\n",
       "      <td>3520333.5</td>\n",
       "      <td>1120355.0</td>\n",
       "      <td>356576.0</td>\n",
       "    </tr>\n",
       "    <tr>\n",
       "      <th>2013</th>\n",
       "      <td>461632.0</td>\n",
       "      <td>2972601.5</td>\n",
       "      <td>1834619.5</td>\n",
       "      <td>4121719.0</td>\n",
       "      <td>23753699.0</td>\n",
       "      <td>3253149.5</td>\n",
       "      <td>2190823.0</td>\n",
       "      <td>378961.5</td>\n",
       "      <td>564653.5</td>\n",
       "      <td>11789767.0</td>\n",
       "      <td>...</td>\n",
       "      <td>3993777.5</td>\n",
       "      <td>16745089.5</td>\n",
       "      <td>194857355.5</td>\n",
       "      <td>1898730.5</td>\n",
       "      <td>5062470.0</td>\n",
       "      <td>374665.5</td>\n",
       "      <td>4283600.5</td>\n",
       "      <td>3525244.5</td>\n",
       "      <td>1117991.0</td>\n",
       "      <td>360168.5</td>\n",
       "    </tr>\n",
       "  </tbody>\n",
       "</table>\n",
       "<p>24 rows × 53 columns</p>\n",
       "</div>"
      ],
      "text/plain": [
       "             population                                               \\\n",
       "state/region         AK         AL         AR         AZ          CA   \n",
       "year                                                                   \n",
       "1990           365396.0  2550048.0  1488759.5  2345068.5  18970008.0   \n",
       "1991           376186.5  2579975.0  1504678.0  2408430.5  19358170.5   \n",
       "1992           386807.0  2613443.5  1527126.5  2485656.0  19707153.0   \n",
       "1993           393312.0  2649904.0  1549888.5  2579836.5  19949869.0   \n",
       "1994           395373.5  2678704.5  1573930.5  2682473.0  20137246.5   \n",
       "1995           394701.0  2703676.5  1601535.0  2802945.0  20308580.0   \n",
       "1996           396964.5  2721597.5  1625010.5  2901112.5  20549176.5   \n",
       "1997           400624.0  2745414.0  1640647.0  2987074.5  20810684.5   \n",
       "1998           406284.5  2761476.5  1654963.0  3084568.0  21075456.5   \n",
       "1999           408100.5  2775714.0  1666900.0  3178109.5  21353541.0   \n",
       "2000           409289.0  2787223.0  1679483.0  3267000.0  21627533.0   \n",
       "2001           411242.5  2794021.5  1685588.5  3336246.0  21902462.0   \n",
       "2002           415409.5  2798339.5  1692362.5  3412096.5  22118492.5   \n",
       "2003           417628.5  2808287.0  1702197.5  3482017.5  22328876.5   \n",
       "2004           422810.5  2822195.5  1716426.0  3568429.0  22496536.5   \n",
       "2005           426125.0  2843517.0  1735442.0  3684122.5  22616754.0   \n",
       "2006           430441.0  2877889.5  1759801.5  3802004.0  22696043.0   \n",
       "2007           432322.0  2902568.0  1775693.5  3887788.0  22792965.5   \n",
       "2008           435289.5  2926566.5  1790139.5  3954506.5  22962979.0   \n",
       "2009           442623.0  2946065.0  1802364.5  3985248.5  23127865.0   \n",
       "2010           450885.0  2958268.0  1817113.5  4018676.5  23308847.5   \n",
       "2011           455852.0  2963695.0  1824541.0  4042574.5  23460508.5   \n",
       "2012           459234.5  2967508.5  1830149.5  4084149.0  23604442.5   \n",
       "2013           461632.0  2972601.5  1834619.5  4121719.0  23753699.0   \n",
       "\n",
       "                                                                    ...  \\\n",
       "state/region         CO         CT        DC        DE          FL  ...   \n",
       "year                                                                ...   \n",
       "1990          2094629.0  2022316.5  358976.5  417597.5   8011057.0  ...   \n",
       "1991          2141828.0  2034599.5  358847.5  426495.0   8207718.0  ...   \n",
       "1992          2210758.0  2038988.0  358101.5  434546.5   8385496.0  ...   \n",
       "1993          2280770.0  2049962.0  357886.5  441647.0   8570625.5  ...   \n",
       "1994          2345290.0  2058676.0  355705.0  449189.0   8769665.5  ...   \n",
       "1995          2405481.5  2066383.5  352069.5  455735.5   8952171.5  ...   \n",
       "1996          2461959.0  2074270.0  346794.5  462499.5   9142527.5  ...   \n",
       "1997          2524425.0  2081860.5  343635.0  469047.0   9344286.5  ...   \n",
       "1998          2588352.5  2094976.0  339535.5  476318.5   9522060.0  ...   \n",
       "1999          2654978.0  2110527.5  342611.5  483750.0   9685566.0  ...   \n",
       "2000          2716798.5  2127009.5  343274.5  490643.5   9851197.5  ...   \n",
       "2001          2776167.0  2139342.5  344564.5  495868.5  10035702.5  ...   \n",
       "2002          2814339.5  2153813.0  343490.0  501557.5  10231997.0  ...   \n",
       "2003          2836664.5  2167725.5  339952.5  508024.0  10412480.5  ...   \n",
       "2004          2860691.0  2172536.5  338755.0  515217.0  10653026.0  ...   \n",
       "2005          2894143.5  2175495.0  337161.5  523569.0  10905108.0  ...   \n",
       "2006          2946127.5  2178416.0  338166.0  531498.5  11094951.0  ...   \n",
       "2007          2996651.0  2180377.0  339265.0  538452.0  11199470.0  ...   \n",
       "2008          3046509.5  2186102.5  341246.5  544995.0  11272838.5  ...   \n",
       "2009          3094704.0  2191323.0  347163.0  548971.5  11324963.5  ...   \n",
       "2010          3137407.5  2196698.5  353217.0  552594.5  11422793.0  ...   \n",
       "2011          3174289.0  2197028.5  361765.0  556393.0  11543016.0  ...   \n",
       "2012          3211161.0  2193362.0  370534.5  560819.5  11666585.0  ...   \n",
       "2013          3253149.5  2190823.0  378961.5  564653.5  11789767.0  ...   \n",
       "\n",
       "                                                                        \\\n",
       "state/region         TN          TX          USA         UT         VA   \n",
       "year                                                                     \n",
       "1990          3057346.0  10981487.5  156920663.0  1179172.5  3868777.0   \n",
       "1991          3099923.5  11199399.0  159146980.0  1208498.0  3924737.5   \n",
       "1992          3154600.0  11434771.5  161511704.0  1242762.0  3997925.5   \n",
       "1993          3211314.0  11689755.5  163756766.5  1280686.0  4057194.0   \n",
       "1994          3271213.0  11947793.0  165883381.0  1317190.5  4110925.0   \n",
       "1995          3329276.0  12190267.5  167875771.5  1346907.5  4159849.0   \n",
       "1996          3381183.0  12445894.5  169813901.5  1377527.0  4207515.5   \n",
       "1997          3429131.5  12697899.5  171783835.0  1409656.0  4256474.5   \n",
       "1998          3470016.0  12958292.5  173642761.0  1437673.5  4303589.5   \n",
       "1999          3512351.5  13199215.5  175493116.0  1459440.0  4361649.5   \n",
       "2000          3551702.0  13425400.0  177269300.0  1483094.0  4423618.5   \n",
       "2001          3579183.5  13649904.5  178820065.0  1505267.0  4476455.5   \n",
       "2002          3605387.5  13875348.5  180280825.0  1529166.0  4529060.0   \n",
       "2003          3636336.5  14081955.5  181604345.5  1550310.0  4574615.5   \n",
       "2004          3672076.0  14301141.0  183051516.5  1576675.5  4638766.5   \n",
       "2005          3720191.5  14534546.5  184520134.0  1612803.5  4696687.5   \n",
       "2006          3779466.0  14903189.0  186068813.0  1657732.0  4750046.5   \n",
       "2007          3829237.0  15198927.5  187625306.0  1706621.0  4792693.0   \n",
       "2008          3870882.5  15492478.0  189099284.0  1750143.5  4835928.5   \n",
       "2009          3900353.0  15797334.0  190452848.0  1790637.0  4885534.5   \n",
       "2010          3925886.5  16062096.0  191722925.5  1823721.5  4939721.0   \n",
       "2011          3945099.0  16286333.5  192742393.0  1848067.0  4981717.5   \n",
       "2012          3973801.5  16523301.5  193790932.0  1871724.5  5023975.5   \n",
       "2013          3993777.5  16745089.5  194857355.5  1898730.5  5062470.0   \n",
       "\n",
       "                                                                   \n",
       "state/region        VT         WA         WI         WV        WY  \n",
       "year                                                               \n",
       "1990          354047.0  3102294.0  3103715.5  1114672.5  294884.0  \n",
       "1991          356912.5  3176075.5  3139599.0  1116326.5  297990.0  \n",
       "1992          359867.0  3263118.5  3177976.5  1119783.5  301779.5  \n",
       "1993          363226.5  3333279.0  3211111.5  1124951.5  305269.5  \n",
       "1994          367315.0  3392541.5  3240894.0  1124774.5  309008.0  \n",
       "1995          370221.0  3455212.0  3268089.5  1126245.0  310972.5  \n",
       "1996          372595.5  3509683.0  3291431.5  1122819.5  311932.5  \n",
       "1997          373639.5  3574196.5  3312962.5  1118575.0  311890.0  \n",
       "1998          374441.5  3632173.0  3330290.0  1114201.0  311694.5  \n",
       "1999          376271.0  3675194.0  3349842.5  1109291.5  311286.5  \n",
       "2000          378583.5  3713436.5  3372219.5  1104041.5  311537.0  \n",
       "2001          379131.5  3751624.5  3387214.0  1098394.0  310434.5  \n",
       "2002          379941.5  3785002.0  3405238.5  1099491.5  312756.0  \n",
       "2003          380288.0  3809496.0  3418854.0  1102377.5  313817.5  \n",
       "2004          380494.0  3849698.0  3434334.5  1104147.0  316540.0  \n",
       "2005          380074.0  3890597.5  3448016.0  1105461.5  319089.5  \n",
       "2006          379811.5  3953839.5  3463220.0  1109274.5  324096.0  \n",
       "2007          379088.0  4005584.5  3479838.0  1112356.5  331818.0  \n",
       "2008          378375.5  4061266.5  3493284.5  1115260.0  338777.0  \n",
       "2009          377633.5  4120914.5  3505837.5  1118405.5  347405.5  \n",
       "2010          377197.0  4161846.0  3512577.0  1120685.0  349786.5  \n",
       "2011          376410.0  4203095.0  3517327.5  1120233.5  351368.0  \n",
       "2012          375254.0  4241884.5  3520333.5  1120355.0  356576.0  \n",
       "2013          374665.5  4283600.5  3525244.5  1117991.0  360168.5  \n",
       "\n",
       "[24 rows x 53 columns]"
      ]
     },
     "execution_count": 32,
     "metadata": {},
     "output_type": "execute_result"
    }
   ],
   "source": [
    "population.groupby([\n",
    "    \"year\", \"state/region\"\n",
    "]).mean().unstack()"
   ]
  },
  {
   "cell_type": "code",
   "execution_count": 17,
   "metadata": {},
   "outputs": [
    {
     "data": {
      "text/html": [
       "<div>\n",
       "<style scoped>\n",
       "    .dataframe tbody tr th:only-of-type {\n",
       "        vertical-align: middle;\n",
       "    }\n",
       "\n",
       "    .dataframe tbody tr th {\n",
       "        vertical-align: top;\n",
       "    }\n",
       "\n",
       "    .dataframe thead th {\n",
       "        text-align: right;\n",
       "    }\n",
       "</style>\n",
       "<table border=\"1\" class=\"dataframe\">\n",
       "  <thead>\n",
       "    <tr style=\"text-align: right;\">\n",
       "      <th></th>\n",
       "      <th>state/region</th>\n",
       "      <th>ages</th>\n",
       "      <th>year</th>\n",
       "      <th>population</th>\n",
       "    </tr>\n",
       "  </thead>\n",
       "  <tbody>\n",
       "    <tr>\n",
       "      <th>0</th>\n",
       "      <td>AL</td>\n",
       "      <td>under18</td>\n",
       "      <td>2012</td>\n",
       "      <td>1117489.0</td>\n",
       "    </tr>\n",
       "    <tr>\n",
       "      <th>1</th>\n",
       "      <td>AL</td>\n",
       "      <td>total</td>\n",
       "      <td>2012</td>\n",
       "      <td>4817528.0</td>\n",
       "    </tr>\n",
       "    <tr>\n",
       "      <th>2</th>\n",
       "      <td>AL</td>\n",
       "      <td>under18</td>\n",
       "      <td>2010</td>\n",
       "      <td>1130966.0</td>\n",
       "    </tr>\n",
       "    <tr>\n",
       "      <th>3</th>\n",
       "      <td>AL</td>\n",
       "      <td>total</td>\n",
       "      <td>2010</td>\n",
       "      <td>4785570.0</td>\n",
       "    </tr>\n",
       "    <tr>\n",
       "      <th>4</th>\n",
       "      <td>AL</td>\n",
       "      <td>under18</td>\n",
       "      <td>2011</td>\n",
       "      <td>1125763.0</td>\n",
       "    </tr>\n",
       "  </tbody>\n",
       "</table>\n",
       "</div>"
      ],
      "text/plain": [
       "  state/region     ages  year  population\n",
       "0           AL  under18  2012   1117489.0\n",
       "1           AL    total  2012   4817528.0\n",
       "2           AL  under18  2010   1130966.0\n",
       "3           AL    total  2010   4785570.0\n",
       "4           AL  under18  2011   1125763.0"
      ]
     },
     "execution_count": 17,
     "metadata": {},
     "output_type": "execute_result"
    }
   ],
   "source": [
    "population.head()"
   ]
  },
  {
   "cell_type": "code",
   "execution_count": 89,
   "metadata": {},
   "outputs": [
    {
     "data": {
      "text/plain": [
       "2544"
      ]
     },
     "execution_count": 89,
     "metadata": {},
     "output_type": "execute_result"
    }
   ],
   "source": [
    "len(population)"
   ]
  },
  {
   "cell_type": "code",
   "execution_count": 105,
   "metadata": {},
   "outputs": [
    {
     "data": {
      "text/plain": [
       "2544"
      ]
     },
     "execution_count": 105,
     "metadata": {},
     "output_type": "execute_result"
    }
   ],
   "source": [
    "df = population.merge(\n",
    "    abbrevs,\n",
    "    left_on=\"state/region\",\n",
    "    right_on=\"abbreviation\",\n",
    "    how=\"left\",  # equivalent to \"outer\" in this case\n",
    ")\n",
    "len(df)"
   ]
  },
  {
   "cell_type": "code",
   "execution_count": 106,
   "metadata": {},
   "outputs": [
    {
     "data": {
      "text/html": [
       "<div>\n",
       "<style scoped>\n",
       "    .dataframe tbody tr th:only-of-type {\n",
       "        vertical-align: middle;\n",
       "    }\n",
       "\n",
       "    .dataframe tbody tr th {\n",
       "        vertical-align: top;\n",
       "    }\n",
       "\n",
       "    .dataframe thead th {\n",
       "        text-align: right;\n",
       "    }\n",
       "</style>\n",
       "<table border=\"1\" class=\"dataframe\">\n",
       "  <thead>\n",
       "    <tr style=\"text-align: right;\">\n",
       "      <th></th>\n",
       "      <th>state/region</th>\n",
       "      <th>ages</th>\n",
       "      <th>year</th>\n",
       "      <th>population</th>\n",
       "      <th>state</th>\n",
       "      <th>abbreviation</th>\n",
       "    </tr>\n",
       "  </thead>\n",
       "  <tbody>\n",
       "    <tr>\n",
       "      <th>0</th>\n",
       "      <td>AL</td>\n",
       "      <td>under18</td>\n",
       "      <td>2012</td>\n",
       "      <td>1117489.0</td>\n",
       "      <td>Alabama</td>\n",
       "      <td>AL</td>\n",
       "    </tr>\n",
       "    <tr>\n",
       "      <th>1</th>\n",
       "      <td>AL</td>\n",
       "      <td>total</td>\n",
       "      <td>2012</td>\n",
       "      <td>4817528.0</td>\n",
       "      <td>Alabama</td>\n",
       "      <td>AL</td>\n",
       "    </tr>\n",
       "    <tr>\n",
       "      <th>2</th>\n",
       "      <td>AL</td>\n",
       "      <td>under18</td>\n",
       "      <td>2010</td>\n",
       "      <td>1130966.0</td>\n",
       "      <td>Alabama</td>\n",
       "      <td>AL</td>\n",
       "    </tr>\n",
       "    <tr>\n",
       "      <th>3</th>\n",
       "      <td>AL</td>\n",
       "      <td>total</td>\n",
       "      <td>2010</td>\n",
       "      <td>4785570.0</td>\n",
       "      <td>Alabama</td>\n",
       "      <td>AL</td>\n",
       "    </tr>\n",
       "    <tr>\n",
       "      <th>4</th>\n",
       "      <td>AL</td>\n",
       "      <td>under18</td>\n",
       "      <td>2011</td>\n",
       "      <td>1125763.0</td>\n",
       "      <td>Alabama</td>\n",
       "      <td>AL</td>\n",
       "    </tr>\n",
       "  </tbody>\n",
       "</table>\n",
       "</div>"
      ],
      "text/plain": [
       "  state/region     ages  year  population    state abbreviation\n",
       "0           AL  under18  2012   1117489.0  Alabama           AL\n",
       "1           AL    total  2012   4817528.0  Alabama           AL\n",
       "2           AL  under18  2010   1130966.0  Alabama           AL\n",
       "3           AL    total  2010   4785570.0  Alabama           AL\n",
       "4           AL  under18  2011   1125763.0  Alabama           AL"
      ]
     },
     "execution_count": 106,
     "metadata": {},
     "output_type": "execute_result"
    }
   ],
   "source": [
    "df.head()"
   ]
  },
  {
   "cell_type": "code",
   "execution_count": 107,
   "metadata": {},
   "outputs": [
    {
     "data": {
      "text/plain": [
       "array(['PR', 'USA'], dtype=object)"
      ]
     },
     "execution_count": 107,
     "metadata": {},
     "output_type": "execute_result"
    }
   ],
   "source": [
    "df.loc[df[\"state\"].isnull(), \"state/region\"].unique()"
   ]
  },
  {
   "cell_type": "code",
   "execution_count": 108,
   "metadata": {},
   "outputs": [],
   "source": [
    "df.loc[df[\"state/region\"] == \"PR\", \"state\"] = \"Puerto Rico\"\n",
    "df.loc[df[\"state/region\"] == \"USA\", \"state\"] = \"United States of America\""
   ]
  },
  {
   "cell_type": "code",
   "execution_count": 111,
   "metadata": {},
   "outputs": [
    {
     "data": {
      "text/html": [
       "<div>\n",
       "<style scoped>\n",
       "    .dataframe tbody tr th:only-of-type {\n",
       "        vertical-align: middle;\n",
       "    }\n",
       "\n",
       "    .dataframe tbody tr th {\n",
       "        vertical-align: top;\n",
       "    }\n",
       "\n",
       "    .dataframe thead th {\n",
       "        text-align: right;\n",
       "    }\n",
       "</style>\n",
       "<table border=\"1\" class=\"dataframe\">\n",
       "  <thead>\n",
       "    <tr style=\"text-align: right;\">\n",
       "      <th></th>\n",
       "      <th>state/region</th>\n",
       "      <th>ages</th>\n",
       "      <th>year</th>\n",
       "      <th>population</th>\n",
       "      <th>state</th>\n",
       "    </tr>\n",
       "  </thead>\n",
       "  <tbody>\n",
       "    <tr>\n",
       "      <th>0</th>\n",
       "      <td>AL</td>\n",
       "      <td>under18</td>\n",
       "      <td>2012</td>\n",
       "      <td>1117489.0</td>\n",
       "      <td>Alabama</td>\n",
       "    </tr>\n",
       "    <tr>\n",
       "      <th>1</th>\n",
       "      <td>AL</td>\n",
       "      <td>total</td>\n",
       "      <td>2012</td>\n",
       "      <td>4817528.0</td>\n",
       "      <td>Alabama</td>\n",
       "    </tr>\n",
       "    <tr>\n",
       "      <th>2</th>\n",
       "      <td>AL</td>\n",
       "      <td>under18</td>\n",
       "      <td>2010</td>\n",
       "      <td>1130966.0</td>\n",
       "      <td>Alabama</td>\n",
       "    </tr>\n",
       "    <tr>\n",
       "      <th>3</th>\n",
       "      <td>AL</td>\n",
       "      <td>total</td>\n",
       "      <td>2010</td>\n",
       "      <td>4785570.0</td>\n",
       "      <td>Alabama</td>\n",
       "    </tr>\n",
       "    <tr>\n",
       "      <th>4</th>\n",
       "      <td>AL</td>\n",
       "      <td>under18</td>\n",
       "      <td>2011</td>\n",
       "      <td>1125763.0</td>\n",
       "      <td>Alabama</td>\n",
       "    </tr>\n",
       "  </tbody>\n",
       "</table>\n",
       "</div>"
      ],
      "text/plain": [
       "  state/region     ages  year  population    state\n",
       "0           AL  under18  2012   1117489.0  Alabama\n",
       "1           AL    total  2012   4817528.0  Alabama\n",
       "2           AL  under18  2010   1130966.0  Alabama\n",
       "3           AL    total  2010   4785570.0  Alabama\n",
       "4           AL  under18  2011   1125763.0  Alabama"
      ]
     },
     "execution_count": 111,
     "metadata": {},
     "output_type": "execute_result"
    }
   ],
   "source": [
    "df = df.drop(columns=\"abbreviation\")\n",
    "df.head()"
   ]
  },
  {
   "cell_type": "code",
   "execution_count": 114,
   "metadata": {},
   "outputs": [
    {
     "data": {
      "text/plain": [
       "state/region    False\n",
       "ages            False\n",
       "year            False\n",
       "population       True\n",
       "state           False\n",
       "dtype: bool"
      ]
     },
     "execution_count": 114,
     "metadata": {},
     "output_type": "execute_result"
    }
   ],
   "source": [
    "df.isnull().any()"
   ]
  },
  {
   "cell_type": "code",
   "execution_count": 116,
   "metadata": {},
   "outputs": [
    {
     "data": {
      "text/html": [
       "<div>\n",
       "<style scoped>\n",
       "    .dataframe tbody tr th:only-of-type {\n",
       "        vertical-align: middle;\n",
       "    }\n",
       "\n",
       "    .dataframe tbody tr th {\n",
       "        vertical-align: top;\n",
       "    }\n",
       "\n",
       "    .dataframe thead th {\n",
       "        text-align: right;\n",
       "    }\n",
       "</style>\n",
       "<table border=\"1\" class=\"dataframe\">\n",
       "  <thead>\n",
       "    <tr style=\"text-align: right;\">\n",
       "      <th></th>\n",
       "      <th>state/region</th>\n",
       "      <th>ages</th>\n",
       "      <th>year</th>\n",
       "      <th>population</th>\n",
       "      <th>state</th>\n",
       "      <th>area (sq. mi)</th>\n",
       "    </tr>\n",
       "  </thead>\n",
       "  <tbody>\n",
       "    <tr>\n",
       "      <th>0</th>\n",
       "      <td>AL</td>\n",
       "      <td>under18</td>\n",
       "      <td>2012</td>\n",
       "      <td>1117489.0</td>\n",
       "      <td>Alabama</td>\n",
       "      <td>52423</td>\n",
       "    </tr>\n",
       "    <tr>\n",
       "      <th>1</th>\n",
       "      <td>AL</td>\n",
       "      <td>total</td>\n",
       "      <td>2012</td>\n",
       "      <td>4817528.0</td>\n",
       "      <td>Alabama</td>\n",
       "      <td>52423</td>\n",
       "    </tr>\n",
       "    <tr>\n",
       "      <th>2</th>\n",
       "      <td>AL</td>\n",
       "      <td>under18</td>\n",
       "      <td>2010</td>\n",
       "      <td>1130966.0</td>\n",
       "      <td>Alabama</td>\n",
       "      <td>52423</td>\n",
       "    </tr>\n",
       "    <tr>\n",
       "      <th>3</th>\n",
       "      <td>AL</td>\n",
       "      <td>total</td>\n",
       "      <td>2010</td>\n",
       "      <td>4785570.0</td>\n",
       "      <td>Alabama</td>\n",
       "      <td>52423</td>\n",
       "    </tr>\n",
       "    <tr>\n",
       "      <th>4</th>\n",
       "      <td>AL</td>\n",
       "      <td>under18</td>\n",
       "      <td>2011</td>\n",
       "      <td>1125763.0</td>\n",
       "      <td>Alabama</td>\n",
       "      <td>52423</td>\n",
       "    </tr>\n",
       "  </tbody>\n",
       "</table>\n",
       "</div>"
      ],
      "text/plain": [
       "  state/region     ages  year  population    state  area (sq. mi)\n",
       "0           AL  under18  2012   1117489.0  Alabama          52423\n",
       "1           AL    total  2012   4817528.0  Alabama          52423\n",
       "2           AL  under18  2010   1130966.0  Alabama          52423\n",
       "3           AL    total  2010   4785570.0  Alabama          52423\n",
       "4           AL  under18  2011   1125763.0  Alabama          52423"
      ]
     },
     "execution_count": 116,
     "metadata": {},
     "output_type": "execute_result"
    }
   ],
   "source": [
    "df = df.merge(areas)\n",
    "df.head()"
   ]
  },
  {
   "cell_type": "code",
   "execution_count": null,
   "metadata": {},
   "outputs": [],
   "source": []
  },
  {
   "cell_type": "code",
   "execution_count": null,
   "metadata": {},
   "outputs": [],
   "source": []
  },
  {
   "cell_type": "markdown",
   "metadata": {},
   "source": [
    "## Relational Algebra\n",
    "\n",
    "The behavior implemented in ``pd.merge()`` is a subset of what is known as *relational algebra*, which is a formal set of rules for manipulating relational data, and forms the conceptual foundation of operations available in most databases.\n",
    "The strength of the relational algebra approach is that it proposes several primitive operations, which become the building blocks of more complicated operations on any dataset.\n",
    "With this lexicon of fundamental operations implemented efficiently in a database or other program, a wide range of fairly complicated composite operations can be performed.\n",
    "\n",
    "Pandas implements several of these fundamental building-blocks in the ``pd.merge()`` function and the related ``join()`` method of ``Series`` and ``Dataframe``s.\n",
    "As we will see, these let you efficiently link data from different sources."
   ]
  },
  {
   "cell_type": "markdown",
   "metadata": {},
   "source": [
    "## Categories of Joins\n",
    "\n",
    "The ``pd.merge()`` function implements a number of types of joins: the *one-to-one*, *many-to-one*, and *many-to-many* joins.\n",
    "All three types of joins are accessed via an identical call to the ``pd.merge()`` interface; the type of join performed depends on the form of the input data.\n",
    "Here we will show simple examples of the three types of merges, and discuss detailed options further below."
   ]
  },
  {
   "cell_type": "markdown",
   "metadata": {},
   "source": [
    "### One-to-one joins\n",
    "\n",
    "Perhaps the simplest type of merge expresion is the one-to-one join, which is in many ways very similar to the column-wise concatenation seen in [Combining Datasets: Concat & Append](03.06-Concat-And-Append.ipynb).\n",
    "As a concrete example, consider the following two ``DataFrames`` which contain information on several employees in a company:"
   ]
  },
  {
   "cell_type": "code",
   "execution_count": null,
   "metadata": {
    "collapsed": false,
    "jupyter": {
     "outputs_hidden": false
    }
   },
   "outputs": [],
   "source": []
  },
  {
   "cell_type": "markdown",
   "metadata": {},
   "source": [
    "To combine this information into a single ``DataFrame``, we can use the ``pd.merge()`` function:"
   ]
  },
  {
   "cell_type": "code",
   "execution_count": null,
   "metadata": {
    "collapsed": false,
    "jupyter": {
     "outputs_hidden": false
    }
   },
   "outputs": [],
   "source": []
  },
  {
   "cell_type": "markdown",
   "metadata": {},
   "source": [
    "The ``pd.merge()`` function recognizes that each ``DataFrame`` has an \"employee\" column, and automatically joins using this column as a key.\n",
    "The result of the merge is a new ``DataFrame`` that combines the information from the two inputs.\n",
    "Notice that the order of entries in each column is not necessarily maintained: in this case, the order of the \"employee\" column differs between ``df1`` and ``df2``, and the ``pd.merge()`` function correctly accounts for this.\n",
    "Additionally, keep in mind that the merge in general discards the index, except in the special case of merges by index (see the ``left_index`` and ``right_index`` keywords, discussed momentarily)."
   ]
  },
  {
   "cell_type": "markdown",
   "metadata": {},
   "source": [
    "### Many-to-one joins"
   ]
  },
  {
   "cell_type": "markdown",
   "metadata": {},
   "source": [
    "Many-to-one joins are joins in which one of the two key columns contains duplicate entries.\n",
    "For the many-to-one case, the resulting ``DataFrame`` will preserve those duplicate entries as appropriate.\n",
    "Consider the following example of a many-to-one join:"
   ]
  },
  {
   "cell_type": "code",
   "execution_count": null,
   "metadata": {
    "collapsed": false,
    "jupyter": {
     "outputs_hidden": false
    }
   },
   "outputs": [],
   "source": []
  },
  {
   "cell_type": "markdown",
   "metadata": {},
   "source": [
    "The resulting ``DataFrame`` has an aditional column with the \"supervisor\" information, where the information is repeated in one or more locations as required by the inputs."
   ]
  },
  {
   "cell_type": "markdown",
   "metadata": {},
   "source": [
    "### Many-to-many joins"
   ]
  },
  {
   "cell_type": "markdown",
   "metadata": {},
   "source": [
    "Many-to-many joins are a bit confusing conceptually, but are nevertheless well defined.\n",
    "If the key column in both the left and right array contains duplicates, then the result is a many-to-many merge.\n",
    "This will be perhaps most clear with a concrete example.\n",
    "Consider the following, where we have a ``DataFrame`` showing one or more skills associated with a particular group.\n",
    "By performing a many-to-many join, we can recover the skills associated with any individual person:"
   ]
  },
  {
   "cell_type": "code",
   "execution_count": null,
   "metadata": {
    "collapsed": false,
    "jupyter": {
     "outputs_hidden": false
    }
   },
   "outputs": [],
   "source": []
  },
  {
   "cell_type": "markdown",
   "metadata": {},
   "source": [
    "These three types of joins can be used with other Pandas tools to implement a wide array of functionality.\n",
    "But in practice, datasets are rarely as clean as the one we're working with here.\n",
    "In the following section we'll consider some of the options provided by ``pd.merge()`` that enable you to tune how the join operations work."
   ]
  },
  {
   "cell_type": "markdown",
   "metadata": {},
   "source": [
    "## Specification of the Merge Key"
   ]
  },
  {
   "cell_type": "markdown",
   "metadata": {},
   "source": [
    "We've already seen the default behavior of ``pd.merge()``: it looks for one or more matching column names between the two inputs, and uses this as the key.\n",
    "However, often the column names will not match so nicely, and ``pd.merge()`` provides a variety of options for handling this."
   ]
  },
  {
   "cell_type": "markdown",
   "metadata": {},
   "source": [
    "### The ``on`` keyword\n",
    "\n",
    "Most simply, you can explicitly specify the name of the key column using the ``on`` keyword, which takes a column name or a list of column names:"
   ]
  },
  {
   "cell_type": "code",
   "execution_count": null,
   "metadata": {
    "collapsed": false,
    "jupyter": {
     "outputs_hidden": false
    }
   },
   "outputs": [],
   "source": []
  },
  {
   "cell_type": "markdown",
   "metadata": {},
   "source": [
    "This option works only if both the left and right ``DataFrame``s have the specified column name."
   ]
  },
  {
   "cell_type": "markdown",
   "metadata": {},
   "source": [
    "### The ``left_on`` and ``right_on`` keywords\n",
    "\n",
    "At times you may wish to merge two datasets with different column names; for example, we may have a dataset in which the employee name is labeled as \"name\" rather than \"employee\".\n",
    "In this case, we can use the ``left_on`` and ``right_on`` keywords to specify the two column names:"
   ]
  },
  {
   "cell_type": "code",
   "execution_count": null,
   "metadata": {
    "collapsed": false,
    "jupyter": {
     "outputs_hidden": false
    }
   },
   "outputs": [],
   "source": []
  },
  {
   "cell_type": "markdown",
   "metadata": {},
   "source": [
    "The result has a redundant column that we can drop if desired–for example, by using the ``drop()`` method of ``DataFrame``s:"
   ]
  },
  {
   "cell_type": "code",
   "execution_count": null,
   "metadata": {
    "collapsed": false,
    "jupyter": {
     "outputs_hidden": false
    }
   },
   "outputs": [],
   "source": []
  },
  {
   "cell_type": "markdown",
   "metadata": {},
   "source": [
    "### The ``left_index`` and ``right_index`` keywords\n",
    "\n",
    "Sometimes, rather than merging on a column, you would instead like to merge on an index.\n",
    "For example, your data might look like this:"
   ]
  },
  {
   "cell_type": "code",
   "execution_count": null,
   "metadata": {
    "collapsed": false,
    "jupyter": {
     "outputs_hidden": false
    }
   },
   "outputs": [],
   "source": []
  },
  {
   "cell_type": "markdown",
   "metadata": {},
   "source": [
    "You can use the index as the key for merging by specifying the ``left_index`` and/or ``right_index`` flags in ``pd.merge()``:"
   ]
  },
  {
   "cell_type": "code",
   "execution_count": null,
   "metadata": {
    "collapsed": false,
    "jupyter": {
     "outputs_hidden": false
    }
   },
   "outputs": [],
   "source": []
  },
  {
   "cell_type": "markdown",
   "metadata": {},
   "source": [
    "For convenience, ``DataFrame``s implement the ``join()`` method, which performs a merge that defaults to joining on indices:"
   ]
  },
  {
   "cell_type": "code",
   "execution_count": null,
   "metadata": {
    "collapsed": false,
    "jupyter": {
     "outputs_hidden": false
    }
   },
   "outputs": [],
   "source": []
  },
  {
   "cell_type": "markdown",
   "metadata": {},
   "source": [
    "If you'd like to mix indices and columns, you can combine ``left_index`` with ``right_on`` or ``left_on`` with ``right_index`` to get the desired behavior:"
   ]
  },
  {
   "cell_type": "code",
   "execution_count": null,
   "metadata": {
    "collapsed": false,
    "jupyter": {
     "outputs_hidden": false
    }
   },
   "outputs": [],
   "source": []
  },
  {
   "cell_type": "markdown",
   "metadata": {},
   "source": [
    "All of these options also work with multiple indices and/or multiple columns; the interface for this behavior is very intuitive.\n",
    "For more information on this, see the [\"Merge, Join, and Concatenate\" section](http://pandas.pydata.org/pandas-docs/stable/merging.html) of the Pandas documentation."
   ]
  },
  {
   "cell_type": "markdown",
   "metadata": {},
   "source": [
    "## Specifying Set Arithmetic for Joins"
   ]
  },
  {
   "cell_type": "markdown",
   "metadata": {},
   "source": [
    "In all the preceding examples we have glossed over one important consideration in performing a join: the type of set arithmetic used in the join.\n",
    "This comes up when a value appears in one key column but not the other. Consider this example:"
   ]
  },
  {
   "cell_type": "code",
   "execution_count": null,
   "metadata": {
    "collapsed": false,
    "jupyter": {
     "outputs_hidden": false
    }
   },
   "outputs": [],
   "source": []
  },
  {
   "cell_type": "markdown",
   "metadata": {},
   "source": [
    "Here we have merged two datasets that have only a single \"name\" entry in common: Mary.\n",
    "By default, the result contains the *intersection* of the two sets of inputs; this is what is known as an *inner join*.\n",
    "We can specify this explicitly using the ``how`` keyword, which defaults to ``\"inner\"``:"
   ]
  },
  {
   "cell_type": "code",
   "execution_count": null,
   "metadata": {
    "collapsed": false,
    "jupyter": {
     "outputs_hidden": false
    }
   },
   "outputs": [],
   "source": []
  },
  {
   "cell_type": "markdown",
   "metadata": {},
   "source": [
    "Other options for the ``how`` keyword are ``'outer'``, ``'left'``, and ``'right'``.\n",
    "An *outer join* returns a join over the union of the input columns, and fills in all missing values with NAs:"
   ]
  },
  {
   "cell_type": "code",
   "execution_count": null,
   "metadata": {
    "collapsed": false,
    "jupyter": {
     "outputs_hidden": false
    }
   },
   "outputs": [],
   "source": []
  },
  {
   "cell_type": "markdown",
   "metadata": {},
   "source": [
    "The *left join* and *right join* return joins over the left entries and right entries, respectively.\n",
    "For example:"
   ]
  },
  {
   "cell_type": "code",
   "execution_count": null,
   "metadata": {
    "collapsed": false,
    "jupyter": {
     "outputs_hidden": false
    }
   },
   "outputs": [],
   "source": []
  },
  {
   "cell_type": "markdown",
   "metadata": {},
   "source": [
    "The output rows now correspond to the entries in the left input. Using\n",
    "``how='right'`` works in a similar manner.\n",
    "\n",
    "All of these options can be applied straightforwardly to any of the preceding join types."
   ]
  },
  {
   "cell_type": "markdown",
   "metadata": {},
   "source": [
    "## Overlapping Column Names: The ``suffixes`` Keyword"
   ]
  },
  {
   "cell_type": "markdown",
   "metadata": {},
   "source": [
    "Finally, you may end up in a case where your two input ``DataFrame``s have conflicting column names.\n",
    "Consider this example:"
   ]
  },
  {
   "cell_type": "code",
   "execution_count": null,
   "metadata": {
    "collapsed": false,
    "jupyter": {
     "outputs_hidden": false
    }
   },
   "outputs": [],
   "source": []
  },
  {
   "cell_type": "markdown",
   "metadata": {},
   "source": [
    "Because the output would have two conflicting column names, the merge function automatically appends a suffix ``_x`` or ``_y`` to make the output columns unique.\n",
    "If these defaults are inappropriate, it is possible to specify a custom suffix using the ``suffixes`` keyword:"
   ]
  },
  {
   "cell_type": "code",
   "execution_count": null,
   "metadata": {
    "collapsed": false,
    "jupyter": {
     "outputs_hidden": false
    }
   },
   "outputs": [],
   "source": []
  },
  {
   "cell_type": "markdown",
   "metadata": {},
   "source": [
    "These suffixes work in any of the possible join patterns, and work also if there are multiple overlapping columns."
   ]
  },
  {
   "cell_type": "markdown",
   "metadata": {},
   "source": [
    "For more information on these patterns, see [Aggregation and Grouping](03.08-Aggregation-and-Grouping.ipynb) where we dive a bit deeper into relational algebra.\n",
    "Also see the [Pandas \"Merge, Join and Concatenate\" documentation](http://pandas.pydata.org/pandas-docs/stable/merging.html) for further discussion of these topics."
   ]
  },
  {
   "cell_type": "markdown",
   "metadata": {},
   "source": [
    "## Example: US States Data\n",
    "\n",
    "Merge and join operations come up most often when combining data from different sources.\n",
    "Here we will consider an example of some data about US states and their populations.\n",
    "The data files can be found at http://github.com/jakevdp/data-USstates/:"
   ]
  },
  {
   "cell_type": "code",
   "execution_count": null,
   "metadata": {
    "collapsed": false,
    "jupyter": {
     "outputs_hidden": false
    }
   },
   "outputs": [],
   "source": [
    "# Following are shell commands to download the data\n",
    "# !curl -O https://raw.githubusercontent.com/jakevdp/data-USstates/master/state-population.csv\n",
    "# !curl -O https://raw.githubusercontent.com/jakevdp/data-USstates/master/state-areas.csv\n",
    "# !curl -O https://raw.githubusercontent.com/jakevdp/data-USstates/master/state-abbrevs.csv"
   ]
  },
  {
   "cell_type": "markdown",
   "metadata": {},
   "source": [
    "Let's take a look at the three datasets, using the Pandas ``read_csv()`` function:"
   ]
  },
  {
   "cell_type": "code",
   "execution_count": null,
   "metadata": {
    "collapsed": false,
    "jupyter": {
     "outputs_hidden": false
    }
   },
   "outputs": [],
   "source": []
  },
  {
   "cell_type": "markdown",
   "metadata": {},
   "source": [
    "Given this information, say we want to compute a relatively straightforward result: rank US states and territories by their 2010 population density.\n",
    "We clearly have the data here to find this result, but we'll have to combine the datasets to find the result.\n",
    "\n",
    "We'll start with a many-to-one merge that will give us the full state name within the population ``DataFrame``.\n",
    "We want to merge based on the ``state/region``  column of ``pop``, and the ``abbreviation`` column of ``abbrevs``.\n",
    "We'll use ``how='outer'`` to make sure no data is thrown away due to mismatched labels."
   ]
  },
  {
   "cell_type": "code",
   "execution_count": null,
   "metadata": {
    "collapsed": false,
    "jupyter": {
     "outputs_hidden": false
    }
   },
   "outputs": [],
   "source": []
  },
  {
   "cell_type": "markdown",
   "metadata": {},
   "source": [
    "Let's double-check whether there were any mismatches here, which we can do by looking for rows with nulls:"
   ]
  },
  {
   "cell_type": "code",
   "execution_count": null,
   "metadata": {
    "collapsed": false,
    "jupyter": {
     "outputs_hidden": false
    }
   },
   "outputs": [],
   "source": []
  },
  {
   "cell_type": "markdown",
   "metadata": {},
   "source": [
    "Some of the ``population`` info is null; let's figure out which these are!"
   ]
  },
  {
   "cell_type": "code",
   "execution_count": null,
   "metadata": {
    "collapsed": false,
    "jupyter": {
     "outputs_hidden": false
    }
   },
   "outputs": [],
   "source": []
  },
  {
   "cell_type": "markdown",
   "metadata": {},
   "source": [
    "It appears that all the null population values are from Puerto Rico prior to the year 2000; this is likely due to this data not being available from the original source.\n",
    "\n",
    "More importantly, we see also that some of the new ``state`` entries are also null, which means that there was no corresponding entry in the ``abbrevs`` key!\n",
    "Let's figure out which regions lack this match:"
   ]
  },
  {
   "cell_type": "code",
   "execution_count": null,
   "metadata": {
    "collapsed": false,
    "jupyter": {
     "outputs_hidden": false
    }
   },
   "outputs": [],
   "source": []
  },
  {
   "cell_type": "markdown",
   "metadata": {},
   "source": [
    "We can quickly infer the issue: our population data includes entries for Puerto Rico (PR) and the United States as a whole (USA), while these entries do not appear in the state abbreviation key.\n",
    "We can fix these quickly by filling in appropriate entries:"
   ]
  },
  {
   "cell_type": "code",
   "execution_count": null,
   "metadata": {
    "collapsed": false,
    "jupyter": {
     "outputs_hidden": false
    }
   },
   "outputs": [],
   "source": []
  },
  {
   "cell_type": "markdown",
   "metadata": {},
   "source": [
    "No more nulls in the ``state`` column: we're all set!\n",
    "\n",
    "Now we can merge the result with the area data using a similar procedure.\n",
    "Examining our results, we will want to join on the ``state`` column in both:"
   ]
  },
  {
   "cell_type": "code",
   "execution_count": null,
   "metadata": {
    "collapsed": false,
    "jupyter": {
     "outputs_hidden": false
    }
   },
   "outputs": [],
   "source": []
  },
  {
   "cell_type": "markdown",
   "metadata": {},
   "source": [
    "Again, let's check for nulls to see if there were any mismatches:"
   ]
  },
  {
   "cell_type": "code",
   "execution_count": null,
   "metadata": {
    "collapsed": false,
    "jupyter": {
     "outputs_hidden": false
    }
   },
   "outputs": [],
   "source": []
  },
  {
   "cell_type": "markdown",
   "metadata": {},
   "source": [
    "There are nulls in the ``area`` column; we can take a look to see which regions were ignored here:"
   ]
  },
  {
   "cell_type": "code",
   "execution_count": null,
   "metadata": {
    "collapsed": false,
    "jupyter": {
     "outputs_hidden": false
    }
   },
   "outputs": [],
   "source": []
  },
  {
   "cell_type": "markdown",
   "metadata": {},
   "source": [
    "We see that our ``areas`` ``DataFrame`` does not contain the area of the United States as a whole.\n",
    "We could insert the appropriate value (using the sum of all state areas, for instance), but in this case we'll just drop the null values because the population density of the entire United States is not relevant to our current discussion:"
   ]
  },
  {
   "cell_type": "code",
   "execution_count": null,
   "metadata": {
    "collapsed": false,
    "jupyter": {
     "outputs_hidden": false
    }
   },
   "outputs": [],
   "source": []
  },
  {
   "cell_type": "markdown",
   "metadata": {},
   "source": [
    "Now we have all the data we need. To answer the question of interest, let's first select the portion of the data corresponding with the year 2000, and the total population.\n",
    "We'll use the ``query()`` function to do this quickly (this requires the ``numexpr`` package to be installed; see [High-Performance Pandas: ``eval()`` and ``query()``](03.12-Performance-Eval-and-Query.ipynb)):"
   ]
  },
  {
   "cell_type": "code",
   "execution_count": null,
   "metadata": {
    "collapsed": false,
    "jupyter": {
     "outputs_hidden": false
    }
   },
   "outputs": [],
   "source": []
  },
  {
   "cell_type": "markdown",
   "metadata": {},
   "source": [
    "Now let's compute the population density and display it in order.\n",
    "We'll start by re-indexing our data on the state, and then compute the result:"
   ]
  },
  {
   "cell_type": "code",
   "execution_count": null,
   "metadata": {
    "collapsed": false,
    "jupyter": {
     "outputs_hidden": false
    }
   },
   "outputs": [],
   "source": []
  },
  {
   "cell_type": "code",
   "execution_count": null,
   "metadata": {
    "collapsed": false,
    "jupyter": {
     "outputs_hidden": false
    }
   },
   "outputs": [],
   "source": []
  },
  {
   "cell_type": "markdown",
   "metadata": {},
   "source": [
    "The result is a ranking of US states plus Washington, DC, and Puerto Rico in order of their 2010 population density, in residents per square mile.\n",
    "We can see that by far the densest region in this dataset is Washington, DC (i.e., the District of Columbia); among states, the densest is New Jersey.\n",
    "\n",
    "We can also check the end of the list:"
   ]
  },
  {
   "cell_type": "code",
   "execution_count": null,
   "metadata": {
    "collapsed": false,
    "jupyter": {
     "outputs_hidden": false
    }
   },
   "outputs": [],
   "source": []
  },
  {
   "cell_type": "markdown",
   "metadata": {},
   "source": [
    "We see that the least dense state, by far, is Alaska, averaging slightly over one resident per square mile.\n",
    "\n",
    "This type of messy data merging is a common task when trying to answer questions using real-world data sources.\n",
    "I hope that this example has given you an idea of the ways you can combine tools we've covered in order to gain insight from your data!"
   ]
  },
  {
   "cell_type": "markdown",
   "metadata": {},
   "source": [
    "<!--NAVIGATION-->\n",
    "< [Combining Datasets: Concat and Append](03.06-Concat-And-Append.ipynb) | [Contents](Index.ipynb) | [Aggregation and Grouping](03.08-Aggregation-and-Grouping.ipynb) >\n",
    "\n",
    "<a href=\"https://colab.research.google.com/github/jakevdp/PythonDataScienceHandbook/blob/master/notebooks/03.07-Merge-and-Join.ipynb\"><img align=\"left\" src=\"https://colab.research.google.com/assets/colab-badge.svg\" alt=\"Open in Colab\" title=\"Open and Execute in Google Colaboratory\"></a>\n"
   ]
  }
 ],
 "metadata": {
  "anaconda-cloud": {},
  "kernelspec": {
   "display_name": "Python 3",
   "language": "python",
   "name": "python3"
  },
  "language_info": {
   "codemirror_mode": {
    "name": "ipython",
    "version": 3
   },
   "file_extension": ".py",
   "mimetype": "text/x-python",
   "name": "python",
   "nbconvert_exporter": "python",
   "pygments_lexer": "ipython3",
   "version": "3.7.3"
  }
 },
 "nbformat": 4,
 "nbformat_minor": 4
}
