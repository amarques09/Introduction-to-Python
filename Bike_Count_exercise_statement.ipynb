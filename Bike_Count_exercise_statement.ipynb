{
 "cells": [
  {
   "cell_type": "markdown",
   "metadata": {},
   "source": [
    "# Bike Count exercise\n",
    "\n",
    "1. Parse the dates in `FremontBridge.csv` and `BicycleWeather.csv`\n",
    "2. Sum east + west in new column `total`, drop other two\n",
    "3. Replace `total` with the _daily sum_ (`.resample`)\n",
    "4. Add a new column with the day of the week\n",
    "5. Compute the **mean** temperature in the weather dataframe\n",
    "6. Add a new column to the weather dataframe with a `True` if the precipitation `== 0`, `False` otherwise, called `dry_day`\n",
    "7. Join both datasets to add mean temperature, `dry_day`, and precipitation"
   ]
  }
 ],
 "metadata": {
  "kernelspec": {
   "display_name": "Python 3",
   "language": "python",
   "name": "python3"
  },
  "language_info": {
   "codemirror_mode": {
    "name": "ipython",
    "version": 3
   },
   "file_extension": ".py",
   "mimetype": "text/x-python",
   "name": "python",
   "nbconvert_exporter": "python",
   "pygments_lexer": "ipython3",
   "version": "3.7.3"
  }
 },
 "nbformat": 4,
 "nbformat_minor": 4
}
